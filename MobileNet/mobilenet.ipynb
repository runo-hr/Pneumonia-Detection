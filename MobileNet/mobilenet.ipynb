{
 "cells": [
  {
   "cell_type": "code",
   "execution_count": 1,
   "id": "9bc91aa4",
   "metadata": {
    "executionInfo": {
     "elapsed": 3406,
     "status": "ok",
     "timestamp": 1632226954571,
     "user": {
      "displayName": "Maggie Kagwiria",
      "photoUrl": "https://lh3.googleusercontent.com/a/default-user=s64",
      "userId": "17023183328992741314"
     },
     "user_tz": -180
    },
    "id": "UHJKZqsHvGH_"
   },
   "outputs": [],
   "source": [
    "import numpy as np\n",
    "import tensorflow as tf\n",
    "from tensorflow import keras\n",
    "from tensorflow.keras.layers import Dense, Activation\n",
    "from tensorflow.keras.optimizers import Adam\n",
    "from tensorflow.keras.metrics import categorical_crossentropy\n",
    "from tensorflow.keras.preprocessing.image import ImageDataGenerator,load_img,img_to_array\n",
    "from tensorflow.keras.preprocessing import image\n",
    "from tensorflow.keras.models import Model,load_model\n",
    "from tensorflow.keras.applications import imagenet_utils\n",
    "from sklearn.metrics import confusion_matrix\n",
    "import itertools\n",
    "import os\n",
    "import random\n",
    "import shutil\n",
    "import matplotlib.pyplot as plt\n",
    "import pandas as pd"
   ]
  },
  {
   "cell_type": "code",
   "execution_count": null,
   "id": "7e350a2a",
   "metadata": {},
   "outputs": [],
   "source": [
    "# download the mobilenet model and call the summary function to check out the structure of the model\n",
    "#mobile = tf.keras.applications.mobilenet.MobileNet()\n",
    "#mobile.summary()"
   ]
  },
  {
   "cell_type": "markdown",
   "id": "2d32c2a8",
   "metadata": {},
   "source": [
    "## Preprocessing Images"
   ]
  },
  {
   "cell_type": "code",
   "execution_count": null,
   "id": "d7162f25",
   "metadata": {},
   "outputs": [],
   "source": [
    "os.chdir(r\"C:\\Users\\HR\\pycharm\\projects\\pneumonia-test\\Dataset1\")"
   ]
  },
  {
   "cell_type": "code",
   "execution_count": null,
   "id": "f698406a",
   "metadata": {},
   "outputs": [],
   "source": [
    "train_path = r'C:\\Users\\HR\\pycharm\\projects\\pneumonia-test\\Dataset1/train'\n",
    "valid_path = r'C:\\Users\\HR\\pycharm\\projects\\pneumonia-test\\Dataset1/valid'\n",
    "test_path =  r'C:\\Users\\HR\\pycharm\\projects\\pneumonia-test\\Dataset2\\test\\blncd test'\n",
    "data_generator = ImageDataGenerator(preprocessing_function=tf.keras.applications.mobilenet.preprocess_input)\n",
    "\n",
    "train_batches = data_generator.flow_from_directory(directory=train_path, \n",
    "                                                   target_size=(224,224), \n",
    "                                                   batch_size=10)\n",
    "\n",
    "valid_batches = data_generator.flow_from_directory(directory=valid_path,\n",
    "                                                   target_size=(224,224), \n",
    "                                                   batch_size=10)\n",
    "\n",
    "test_batches = data_generator.flow_from_directory(directory=test_path, \n",
    "                                                  target_size=(224,224), \n",
    "                                                  batch_size=10, \n",
    "                                                  shuffle=False)\n",
    "\n"
   ]
  },
  {
   "cell_type": "code",
   "execution_count": null,
   "id": "c7095f58",
   "metadata": {},
   "outputs": [],
   "source": [
    "#layers with parameters starting from the output layer\n",
    "all_parameter_layers = [1,4,5,7,8,10,11,13,14,17,18,20,21,23,24,26,27,29,30,32,33,35,\n",
    "                   36,38,39,41,42,44,45,47,48,50,51,54,55,57,58,60,61,63,64,67,68,\n",
    "                   70,71,73,74,76,77,80,81,83,84,86,87]\n",
    "parameter_layers = []\n",
    "idx = 0\n",
    "while idx < len(all_parameter_layers):\n",
    "    parameter_layers.append(all_parameter_layers[idx])\n",
    "    idx += 2\n",
    "parameter_layers.index(74),len(parameter_layers)"
   ]
  },
  {
   "cell_type": "code",
   "execution_count": null,
   "id": "0b39c816",
   "metadata": {},
   "outputs": [],
   "source": [
    "parameter_layers.index(45)"
   ]
  },
  {
   "cell_type": "code",
   "execution_count": null,
   "id": "34e00052",
   "metadata": {},
   "outputs": [],
   "source": [
    "for n in parameter_layers[24:]:\n",
    "    mobile = tf.keras.applications.mobilenet.MobileNet()\n",
    "    #  Build the fine-tuned model\n",
    "    x = mobile.layers[-6].output\n",
    "    output = Dense(units=2, activation='softmax')(x)\n",
    "    model = Model(inputs=mobile.input, outputs=output)\n",
    "    \n",
    "    for layer in model.layers [:-n]:\n",
    "        layer.trainable = False\n",
    "    \n",
    "    print(f\"training model {n}\")\n",
    "    #  Compile and train the model\n",
    "    model.compile(optimizer=Adam(learning_rate=0.0001), loss='categorical_crossentropy', metrics=['accuracy'])\n",
    "\n",
    "    history = model.fit(x=train_batches,\n",
    "              steps_per_epoch=len(train_batches),\n",
    "              validation_data=valid_batches,\n",
    "              validation_steps=len(valid_batches),\n",
    "              epochs=25,\n",
    "              verbose=2)\n",
    "\n",
    "    #  Save your fine-tuned model\n",
    "    model.save(f'mobilenet-full-{n}.h5')\n",
    "    print(f\"model {n} saved successfully\")\n",
    "\n",
    "\n"
   ]
  },
  {
   "cell_type": "markdown",
   "id": "e9996219",
   "metadata": {},
   "source": [
    "# Evaluation"
   ]
  },
  {
   "cell_type": "code",
   "execution_count": null,
   "id": "ce301725",
   "metadata": {},
   "outputs": [],
   "source": [
    "test_batches.class_indices"
   ]
  },
  {
   "cell_type": "code",
   "execution_count": 2,
   "id": "554d175c",
   "metadata": {},
   "outputs": [],
   "source": [
    "os.chdir(r'C:\\Users\\HR\\pycharm\\projects\\pneumonia-test\\mobilenet models')"
   ]
  },
  {
   "cell_type": "code",
   "execution_count": null,
   "id": "1acc86bf",
   "metadata": {},
   "outputs": [],
   "source": [
    "df = pd.DataFrame(columns = [\"Layers_retrained\",\n",
    "                             \"Accuracy\", \"Precision\", \"Recall\",\"F1-score\",\n",
    "                             ])\n",
    "for n in parameter_layers:\n",
    "    print(f\"model {n}\")\n",
    "    new_model = load_model(f'mobilenet-full-{n}.h5')\n",
    "    predictions = new_model.predict(x=test_batches, steps=len(test_batches), verbose=0)\n",
    "    y_pred = np.argmax(predictions, axis=-1) #returns the indices of the max value along the rows\n",
    "    \n",
    "    def accuracy(true_labels , predicted_labels):\n",
    "        m = tf.keras.metrics.Accuracy()\n",
    "        m.update_state(true_labels,predicted_labels )\n",
    "        return m.result().numpy()\n",
    "    \n",
    "    acc = accuracy(true_labels = test_batches.classes,\n",
    "                      predicted_labels = y_pred)\n",
    "    print(f'accuracy: {acc}')\n",
    "\n",
    "    def precision(true_labels , predicted_labels):\n",
    "        m = tf.keras.metrics.Precision()\n",
    "        m.update_state(true_labels,predicted_labels )\n",
    "        return m.result().numpy()\n",
    "    \n",
    "    precsn = precision(true_labels = test_batches.classes,\n",
    "                        predicted_labels = y_pred)\n",
    "    print(f'precision: {precsn}')\n",
    "\n",
    "    def recall(true_labels , predicted_labels):\n",
    "        m = tf.keras.metrics.Recall()\n",
    "        m.update_state(true_labels,predicted_labels )\n",
    "        return m.result().numpy()\n",
    "    \n",
    "    recll = recall(true_labels = test_batches.classes,\n",
    "                        predicted_labels = y_pred)\n",
    "    print(f'recall: {recll}')\n",
    "\n",
    "    from sklearn.metrics import f1_score\n",
    "    def f_score(true_labels , predicted_labels):\n",
    "      return f1_score(true_labels , predicted_labels)\n",
    "\n",
    "    f1_score = f_score(true_labels = test_batches.classes,\n",
    "                        predicted_labels = y_pred)\n",
    "    print(f'f1-score: {f1_score}')\n",
    "    print()\n",
    "    df = df.append([{\"Layers_retrained\" : f\"{n}\",\n",
    "            \"Accuracy\" : acc,\n",
    "            \"Precision\": precsn,\n",
    "           \"Recall\" : recll,\n",
    "            \"F1-score\" :f1_score }],\n",
    "          ignore_index = True)\n",
    "df\n",
    "    "
   ]
  },
  {
   "cell_type": "code",
   "execution_count": null,
   "id": "4883ad89",
   "metadata": {},
   "outputs": [],
   "source": [
    "df.to_excel('Mobilenet_full-dataset.xlsx')"
   ]
  },
  {
   "cell_type": "markdown",
   "id": "e152c171",
   "metadata": {},
   "source": [
    "## Visuals"
   ]
  },
  {
   "cell_type": "code",
   "execution_count": 3,
   "id": "9dc65735",
   "metadata": {},
   "outputs": [],
   "source": [
    "df_full = pd.read_excel('Mobilenet_full-dataset.xlsx')\n"
   ]
  },
  {
   "cell_type": "code",
   "execution_count": 4,
   "id": "3b27dd40",
   "metadata": {},
   "outputs": [],
   "source": [
    "del(df_full['Unnamed: 0'])"
   ]
  },
  {
   "cell_type": "code",
   "execution_count": 5,
   "id": "b5b709a5",
   "metadata": {},
   "outputs": [
    {
     "data": {
      "text/html": [
       "<div>\n",
       "<style scoped>\n",
       "    .dataframe tbody tr th:only-of-type {\n",
       "        vertical-align: middle;\n",
       "    }\n",
       "\n",
       "    .dataframe tbody tr th {\n",
       "        vertical-align: top;\n",
       "    }\n",
       "\n",
       "    .dataframe thead th {\n",
       "        text-align: right;\n",
       "    }\n",
       "</style>\n",
       "<table border=\"1\" class=\"dataframe\">\n",
       "  <thead>\n",
       "    <tr style=\"text-align: right;\">\n",
       "      <th></th>\n",
       "      <th>Accuracy</th>\n",
       "      <th>Precision</th>\n",
       "      <th>Recall</th>\n",
       "      <th>F1-score</th>\n",
       "    </tr>\n",
       "    <tr>\n",
       "      <th>Layers_retrained</th>\n",
       "      <th></th>\n",
       "      <th></th>\n",
       "      <th></th>\n",
       "      <th></th>\n",
       "    </tr>\n",
       "  </thead>\n",
       "  <tbody>\n",
       "    <tr>\n",
       "      <th>1</th>\n",
       "      <td>0.949367</td>\n",
       "      <td>0.922619</td>\n",
       "      <td>0.981013</td>\n",
       "      <td>0.950920</td>\n",
       "    </tr>\n",
       "    <tr>\n",
       "      <th>5</th>\n",
       "      <td>0.968354</td>\n",
       "      <td>0.951219</td>\n",
       "      <td>0.987342</td>\n",
       "      <td>0.968944</td>\n",
       "    </tr>\n",
       "    <tr>\n",
       "      <th>8</th>\n",
       "      <td>0.974684</td>\n",
       "      <td>0.980769</td>\n",
       "      <td>0.968354</td>\n",
       "      <td>0.974522</td>\n",
       "    </tr>\n",
       "    <tr>\n",
       "      <th>11</th>\n",
       "      <td>0.943038</td>\n",
       "      <td>0.897727</td>\n",
       "      <td>1.000000</td>\n",
       "      <td>0.946108</td>\n",
       "    </tr>\n",
       "    <tr>\n",
       "      <th>14</th>\n",
       "      <td>0.974684</td>\n",
       "      <td>0.974684</td>\n",
       "      <td>0.974684</td>\n",
       "      <td>0.974684</td>\n",
       "    </tr>\n",
       "    <tr>\n",
       "      <th>18</th>\n",
       "      <td>0.981013</td>\n",
       "      <td>0.975000</td>\n",
       "      <td>0.987342</td>\n",
       "      <td>0.981132</td>\n",
       "    </tr>\n",
       "    <tr>\n",
       "      <th>21</th>\n",
       "      <td>0.962025</td>\n",
       "      <td>0.986667</td>\n",
       "      <td>0.936709</td>\n",
       "      <td>0.961039</td>\n",
       "    </tr>\n",
       "    <tr>\n",
       "      <th>24</th>\n",
       "      <td>0.939873</td>\n",
       "      <td>0.892655</td>\n",
       "      <td>1.000000</td>\n",
       "      <td>0.943284</td>\n",
       "    </tr>\n",
       "    <tr>\n",
       "      <th>27</th>\n",
       "      <td>0.958861</td>\n",
       "      <td>0.923977</td>\n",
       "      <td>1.000000</td>\n",
       "      <td>0.960486</td>\n",
       "    </tr>\n",
       "    <tr>\n",
       "      <th>30</th>\n",
       "      <td>0.971519</td>\n",
       "      <td>0.951515</td>\n",
       "      <td>0.993671</td>\n",
       "      <td>0.972136</td>\n",
       "    </tr>\n",
       "    <tr>\n",
       "      <th>33</th>\n",
       "      <td>0.946203</td>\n",
       "      <td>0.902857</td>\n",
       "      <td>1.000000</td>\n",
       "      <td>0.948949</td>\n",
       "    </tr>\n",
       "    <tr>\n",
       "      <th>36</th>\n",
       "      <td>0.974684</td>\n",
       "      <td>0.962963</td>\n",
       "      <td>0.987342</td>\n",
       "      <td>0.975000</td>\n",
       "    </tr>\n",
       "    <tr>\n",
       "      <th>39</th>\n",
       "      <td>0.955696</td>\n",
       "      <td>0.923529</td>\n",
       "      <td>0.993671</td>\n",
       "      <td>0.957317</td>\n",
       "    </tr>\n",
       "    <tr>\n",
       "      <th>42</th>\n",
       "      <td>0.974684</td>\n",
       "      <td>0.957317</td>\n",
       "      <td>0.993671</td>\n",
       "      <td>0.975155</td>\n",
       "    </tr>\n",
       "    <tr>\n",
       "      <th>45</th>\n",
       "      <td>0.974684</td>\n",
       "      <td>0.957317</td>\n",
       "      <td>0.993671</td>\n",
       "      <td>0.975155</td>\n",
       "    </tr>\n",
       "    <tr>\n",
       "      <th>48</th>\n",
       "      <td>0.981013</td>\n",
       "      <td>0.987179</td>\n",
       "      <td>0.974684</td>\n",
       "      <td>0.980892</td>\n",
       "    </tr>\n",
       "    <tr>\n",
       "      <th>51</th>\n",
       "      <td>0.981013</td>\n",
       "      <td>0.969136</td>\n",
       "      <td>0.993671</td>\n",
       "      <td>0.981250</td>\n",
       "    </tr>\n",
       "    <tr>\n",
       "      <th>55</th>\n",
       "      <td>0.984177</td>\n",
       "      <td>0.975155</td>\n",
       "      <td>0.993671</td>\n",
       "      <td>0.984326</td>\n",
       "    </tr>\n",
       "    <tr>\n",
       "      <th>58</th>\n",
       "      <td>0.987342</td>\n",
       "      <td>0.981250</td>\n",
       "      <td>0.993671</td>\n",
       "      <td>0.987421</td>\n",
       "    </tr>\n",
       "    <tr>\n",
       "      <th>61</th>\n",
       "      <td>0.981013</td>\n",
       "      <td>0.963415</td>\n",
       "      <td>1.000000</td>\n",
       "      <td>0.981366</td>\n",
       "    </tr>\n",
       "    <tr>\n",
       "      <th>64</th>\n",
       "      <td>0.977848</td>\n",
       "      <td>0.957576</td>\n",
       "      <td>1.000000</td>\n",
       "      <td>0.978328</td>\n",
       "    </tr>\n",
       "    <tr>\n",
       "      <th>68</th>\n",
       "      <td>0.981013</td>\n",
       "      <td>0.963415</td>\n",
       "      <td>1.000000</td>\n",
       "      <td>0.981366</td>\n",
       "    </tr>\n",
       "    <tr>\n",
       "      <th>71</th>\n",
       "      <td>0.974684</td>\n",
       "      <td>0.962963</td>\n",
       "      <td>0.987342</td>\n",
       "      <td>0.975000</td>\n",
       "    </tr>\n",
       "    <tr>\n",
       "      <th>74</th>\n",
       "      <td>0.981013</td>\n",
       "      <td>0.969136</td>\n",
       "      <td>0.993671</td>\n",
       "      <td>0.981250</td>\n",
       "    </tr>\n",
       "    <tr>\n",
       "      <th>77</th>\n",
       "      <td>0.930380</td>\n",
       "      <td>0.882023</td>\n",
       "      <td>0.993671</td>\n",
       "      <td>0.934524</td>\n",
       "    </tr>\n",
       "    <tr>\n",
       "      <th>81</th>\n",
       "      <td>0.971519</td>\n",
       "      <td>0.951515</td>\n",
       "      <td>0.993671</td>\n",
       "      <td>0.972136</td>\n",
       "    </tr>\n",
       "    <tr>\n",
       "      <th>84</th>\n",
       "      <td>0.949367</td>\n",
       "      <td>0.912791</td>\n",
       "      <td>0.993671</td>\n",
       "      <td>0.951515</td>\n",
       "    </tr>\n",
       "    <tr>\n",
       "      <th>87</th>\n",
       "      <td>0.977848</td>\n",
       "      <td>0.963190</td>\n",
       "      <td>0.993671</td>\n",
       "      <td>0.978193</td>\n",
       "    </tr>\n",
       "  </tbody>\n",
       "</table>\n",
       "</div>"
      ],
      "text/plain": [
       "                  Accuracy  Precision    Recall  F1-score\n",
       "Layers_retrained                                         \n",
       "1                 0.949367   0.922619  0.981013  0.950920\n",
       "5                 0.968354   0.951219  0.987342  0.968944\n",
       "8                 0.974684   0.980769  0.968354  0.974522\n",
       "11                0.943038   0.897727  1.000000  0.946108\n",
       "14                0.974684   0.974684  0.974684  0.974684\n",
       "18                0.981013   0.975000  0.987342  0.981132\n",
       "21                0.962025   0.986667  0.936709  0.961039\n",
       "24                0.939873   0.892655  1.000000  0.943284\n",
       "27                0.958861   0.923977  1.000000  0.960486\n",
       "30                0.971519   0.951515  0.993671  0.972136\n",
       "33                0.946203   0.902857  1.000000  0.948949\n",
       "36                0.974684   0.962963  0.987342  0.975000\n",
       "39                0.955696   0.923529  0.993671  0.957317\n",
       "42                0.974684   0.957317  0.993671  0.975155\n",
       "45                0.974684   0.957317  0.993671  0.975155\n",
       "48                0.981013   0.987179  0.974684  0.980892\n",
       "51                0.981013   0.969136  0.993671  0.981250\n",
       "55                0.984177   0.975155  0.993671  0.984326\n",
       "58                0.987342   0.981250  0.993671  0.987421\n",
       "61                0.981013   0.963415  1.000000  0.981366\n",
       "64                0.977848   0.957576  1.000000  0.978328\n",
       "68                0.981013   0.963415  1.000000  0.981366\n",
       "71                0.974684   0.962963  0.987342  0.975000\n",
       "74                0.981013   0.969136  0.993671  0.981250\n",
       "77                0.930380   0.882023  0.993671  0.934524\n",
       "81                0.971519   0.951515  0.993671  0.972136\n",
       "84                0.949367   0.912791  0.993671  0.951515\n",
       "87                0.977848   0.963190  0.993671  0.978193"
      ]
     },
     "execution_count": 5,
     "metadata": {},
     "output_type": "execute_result"
    }
   ],
   "source": [
    "df_full = df_full.set_index('Layers_retrained')\n",
    "df_full"
   ]
  },
  {
   "cell_type": "markdown",
   "id": "32b4f65a",
   "metadata": {},
   "source": [
    "## All metrics"
   ]
  },
  {
   "cell_type": "code",
   "execution_count": null,
   "id": "97d8ca43",
   "metadata": {},
   "outputs": [],
   "source": [
    "df_full.plot()"
   ]
  },
  {
   "cell_type": "markdown",
   "id": "4f9fd4c1",
   "metadata": {},
   "source": [
    "## F1-score"
   ]
  },
  {
   "cell_type": "code",
   "execution_count": 6,
   "id": "80d307d0",
   "metadata": {},
   "outputs": [
    {
     "data": {
      "image/png": "[encoded data removed]",
      "text/plain": [
       "<Figure size 720x504 with 1 Axes>"
      ]
     },
     "metadata": {
      "needs_background": "light"
     },
     "output_type": "display_data"
    }
   ],
   "source": [
    "plt.figure(figsize = (10,7))\n",
    "plt.plot(df_full['F1-score'],color = 'red', label = 'MobileNets Unbalanced  Dataset')\n",
    "plt.xlabel('Layers retrained')\n",
    "plt.ylabel('F1-score')\n",
    "plt.legend()\n",
    "plt.title('F1 scores')\n",
    "plt.show()"
   ]
  },
  {
   "cell_type": "markdown",
   "id": "3f873dd9",
   "metadata": {},
   "source": [
    "## F-score, precision and recall"
   ]
  },
  {
   "cell_type": "code",
   "execution_count": 8,
   "id": "f8b8ef2b",
   "metadata": {},
   "outputs": [
    {
     "data": {
      "image/png": "[encoded data removed]",
      "text/plain": [
       "<Figure size 720x504 with 1 Axes>"
      ]
     },
     "metadata": {
      "needs_background": "light"
     },
     "output_type": "display_data"
    }
   ],
   "source": [
    "plt.figure(figsize = (10,7))\n",
    "plt.plot(df_full['F1-score'],color = 'red', label = 'F1_score')\n",
    "plt.plot(df_full['Precision'],color = 'blue', label = 'Precision')\n",
    "plt.plot(df_full['Recall'],color = 'green', label = 'Recall')\n",
    "\n",
    "plt.xlabel('Layers retrained')\n",
    "plt.ylabel('score')\n",
    "plt.legend()\n",
    "plt.title('F1 scores,Precision,Recall')\n",
    "plt.show()"
   ]
  },
  {
   "cell_type": "code",
   "execution_count": null,
   "id": "cb8f371e",
   "metadata": {},
   "outputs": [],
   "source": [
    "df_full"
   ]
  },
  {
   "cell_type": "markdown",
   "id": "2faf7ab0",
   "metadata": {},
   "source": [
    "Precision = tp/(tp + fp)  \n",
    "Precision = tp/predicted positives  \n",
    "High precision >> less false positives  \n",
    "\n",
    "Recall = tp/(tp + fn)  \n",
    "Recall = tp/ actual positives  \n",
    "High recall >> less false negatives  "
   ]
  },
  {
   "cell_type": "code",
   "execution_count": 9,
   "id": "f31f19ca",
   "metadata": {},
   "outputs": [],
   "source": [
    "def prepare_image_mobilenet(file):\n",
    "    #load image from file\n",
    "    img = load_img(file, target_size=(224, 224))\n",
    "    # convert the image pixels to a numpy array\n",
    "    img_arr = img_to_array(img)\n",
    "    # reshape data for the model\n",
    "    img_arr = img_arr.reshape((1, img_arr.shape[0], img_arr.shape[1], img_arr.shape[2]))\n",
    "    # same as np.expand_dims(img_array, axis=0)\n",
    "    return tf.keras.applications.mobilenet.preprocess_input(img_arr)"
   ]
  },
  {
   "cell_type": "code",
   "execution_count": 10,
   "id": "0abe8ff6",
   "metadata": {},
   "outputs": [],
   "source": [
    "normal_path = r'C:\\Users\\HR\\pycharm\\projects\\pneumonia-test\\Dataset2\\test\\blncd test\\NORMAL\\\\'\n",
    "pneumonia_path = r'C:\\Users\\HR\\pycharm\\projects\\pneumonia-test\\Dataset2\\test\\blncd test\\PNEUMONIA\\\\'"
   ]
  },
  {
   "cell_type": "code",
   "execution_count": 11,
   "id": "76c0da58",
   "metadata": {},
   "outputs": [],
   "source": [
    "def predict(no_of_imgs, imgs_path, model_no):\n",
    "    os.chdir(r'C:\\Users\\HR\\pycharm\\projects\\pneumonia-test\\mobilenet models')\n",
    "    new_model = load_model(f'mobilenet-full-{model_no}.h5')\n",
    "    \n",
    "    print(f\"number of test images: {no_of_imgs}\")\n",
    "    preds = []\n",
    "    for count,file_name in enumerate(os.listdir(imgs_path)):\n",
    "        if count <= no_of_imgs and count != 0:\n",
    "            file = imgs_path + file_name\n",
    "            img = prepare_image_mobilenet(file)\n",
    "            pred = new_model.predict(img)\n",
    "            pred = np.argmax(pred, axis=-1) #returns the indices of the max value along the rows\n",
    "            preds.append(pred[0])\n",
    "    \n",
    "    if 'NORMAL' in imgs_path:\n",
    "        print(f\"predictions on Normal images: {preds}\")\n",
    "        wrong_preds = preds.count(1)\n",
    "        print(f\"wrong(ie.false positives): {wrong_preds}\")\n",
    "        correct_preds = no_of_imgs - wrong_preds\n",
    "        print(f\"correct: {correct_preds}\")\n",
    "    else:\n",
    "        print(f\"predictions on pneumonia images: {preds}\")\n",
    "        wrong_preds = preds.count(0)\n",
    "        print(f\"wrong (ie.false negatives): {wrong_preds}\")\n",
    "        correct_preds = no_of_imgs - wrong_preds\n",
    "        print(f\"correct: {correct_preds}\")"
   ]
  },
  {
   "cell_type": "code",
   "execution_count": null,
   "id": "f81c7717",
   "metadata": {},
   "outputs": [],
   "source": [
    "predict(no_of_imgs=158,\n",
    "        imgs_path = normal_path,\n",
    "        model_no = 8)"
   ]
  },
  {
   "cell_type": "code",
   "execution_count": null,
   "id": "f7443324",
   "metadata": {},
   "outputs": [],
   "source": [
    "predict(no_of_imgs=158,\n",
    "        imgs_path = pneumonia_path,\n",
    "        model_no = 8)"
   ]
  },
  {
   "cell_type": "code",
   "execution_count": null,
   "id": "5210da94",
   "metadata": {},
   "outputs": [],
   "source": []
  }
 ],
 "metadata": {
  "kernelspec": {
   "display_name": "Python [conda env:py37]",
   "language": "python",
   "name": "conda-env-py37-py"
  },
  "language_info": {
   "codemirror_mode": {
    "name": "ipython",
    "version": 3
   },
   "file_extension": ".py",
   "mimetype": "text/x-python",
   "name": "python",
   "nbconvert_exporter": "python",
   "pygments_lexer": "ipython3",
   "version": "3.7.10"
  }
 },
 "nbformat": 4,
 "nbformat_minor": 5
}
