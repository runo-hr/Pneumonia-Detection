{
 "cells": [
  {
   "cell_type": "code",
   "execution_count": 2,
   "id": "ee7816ea",
   "metadata": {
    "executionInfo": {
     "elapsed": 3406,
     "status": "ok",
     "timestamp": 1632226954571,
     "user": {
      "displayName": "Maggie Kagwiria",
      "photoUrl": "https://lh3.googleusercontent.com/a/default-user=s64",
      "userId": "17023183328992741314"
     },
     "user_tz": -180
    },
    "id": "UHJKZqsHvGH_"
   },
   "outputs": [],
   "source": [
    "import numpy as np\n",
    "import tensorflow as tf\n",
    "from tensorflow import keras\n",
    "from tensorflow.keras.layers import Dense, Activation\n",
    "from tensorflow.keras.optimizers import Adam\n",
    "from tensorflow.keras.metrics import categorical_crossentropy\n",
    "from tensorflow.keras.preprocessing.image import ImageDataGenerator,load_img,img_to_array\n",
    "from tensorflow.keras.preprocessing import image\n",
    "from tensorflow.keras.models import Model,load_model\n",
    "from tensorflow.keras.applications import imagenet_utils\n",
    "from sklearn.metrics import confusion_matrix\n",
    "import itertools\n",
    "import os\n",
    "import random\n",
    "import shutil\n",
    "import matplotlib.pyplot as plt\n",
    "import pandas as pd"
   ]
  },
  {
   "cell_type": "code",
   "execution_count": null,
   "id": "8657bca4",
   "metadata": {},
   "outputs": [],
   "source": [
    "# download the mobilenet model and call the summary function to check out the structure of the model\n",
    "#mobile = tf.keras.applications.mobilenet.MobileNet()\n",
    "#mobile.summary()"
   ]
  },
  {
   "cell_type": "markdown",
   "id": "7b6303c6",
   "metadata": {},
   "source": [
    "## Preprocessing Images"
   ]
  },
  {
   "cell_type": "code",
   "execution_count": null,
   "id": "20d83993",
   "metadata": {},
   "outputs": [],
   "source": [
    "os.chdir(r\"C:\\Users\\HR\\pycharm\\projects\\pneumonia-test\\Dataset1\")"
   ]
  },
  {
   "cell_type": "code",
   "execution_count": null,
   "id": "3948bb5d",
   "metadata": {},
   "outputs": [],
   "source": [
    "train_path = r'C:\\Users\\HR\\pycharm\\projects\\pneumonia-test\\Dataset1/train'\n",
    "valid_path = r'C:\\Users\\HR\\pycharm\\projects\\pneumonia-test\\Dataset1/valid'\n",
    "test_path =  r'C:\\Users\\HR\\pycharm\\projects\\pneumonia-test\\Dataset2\\test\\blncd test'\n",
    "data_generator = ImageDataGenerator(preprocessing_function=tf.keras.applications.mobilenet.preprocess_input)\n",
    "\n",
    "train_batches = data_generator.flow_from_directory(directory=train_path, \n",
    "                                                   target_size=(224,224), \n",
    "                                                   batch_size=10)\n",
    "\n",
    "valid_batches = data_generator.flow_from_directory(directory=valid_path,\n",
    "                                                   target_size=(224,224), \n",
    "                                                   batch_size=10)\n",
    "\n",
    "test_batches = data_generator.flow_from_directory(directory=test_path, \n",
    "                                                  target_size=(224,224), \n",
    "                                                  batch_size=10, \n",
    "                                                  shuffle=False)\n",
    "\n"
   ]
  },
  {
   "cell_type": "code",
   "execution_count": null,
   "id": "9df40b1d",
   "metadata": {},
   "outputs": [],
   "source": [
    "#layers with parameters starting from the output layer\n",
    "all_parameter_layers = [1,4,5,7,8,10,11,13,14,17,18,20,21,23,24,26,27,29,30,32,33,35,\n",
    "                   36,38,39,41,42,44,45,47,48,50,51,54,55,57,58,60,61,63,64,67,68,\n",
    "                   70,71,73,74,76,77,80,81,83,84,86,87]\n",
    "parameter_layers = []\n",
    "idx = 0\n",
    "while idx < len(all_parameter_layers):\n",
    "    parameter_layers.append(all_parameter_layers[idx])\n",
    "    idx += 2\n",
    "parameter_layers.index(74),len(parameter_layers)"
   ]
  },
  {
   "cell_type": "code",
   "execution_count": null,
   "id": "98f48238",
   "metadata": {},
   "outputs": [],
   "source": [
    "parameter_layers.index(45)"
   ]
  },
  {
   "cell_type": "code",
   "execution_count": null,
   "id": "1c0f4f59",
   "metadata": {},
   "outputs": [],
   "source": [
    "for n in parameter_layers[24:]:\n",
    "    mobile = tf.keras.applications.mobilenet.MobileNet()\n",
    "    #  Build the fine-tuned model\n",
    "    x = mobile.layers[-6].output\n",
    "    output = Dense(units=2, activation='softmax')(x)\n",
    "    model = Model(inputs=mobile.input, outputs=output)\n",
    "    \n",
    "    for layer in model.layers [:-n]:\n",
    "        layer.trainable = False\n",
    "    \n",
    "    print(f\"training model {n}\")\n",
    "    #  Compile and train the model\n",
    "    model.compile(optimizer=Adam(learning_rate=0.0001), loss='categorical_crossentropy', metrics=['accuracy'])\n",
    "\n",
    "    history = model.fit(x=train_batches,\n",
    "              steps_per_epoch=len(train_batches),\n",
    "              validation_data=valid_batches,\n",
    "              validation_steps=len(valid_batches),\n",
    "              epochs=25,\n",
    "              verbose=2)\n",
    "\n",
    "    #  Save your fine-tuned model\n",
    "    model.save(f'mobilenet-full-{n}.h5')\n",
    "    print(f\"model {n} saved successfully\")\n",
    "\n",
    "\n"
   ]
  },
  {
   "cell_type": "markdown",
   "id": "09bfde96",
   "metadata": {},
   "source": [
    "# Evaluation"
   ]
  },
  {
   "cell_type": "code",
   "execution_count": null,
   "id": "7247cfba",
   "metadata": {},
   "outputs": [],
   "source": [
    "test_batches.class_indices"
   ]
  },
  {
   "cell_type": "code",
   "execution_count": null,
   "id": "11feb2d9",
   "metadata": {},
   "outputs": [],
   "source": [
    "os.chdir(r'C:\\Users\\HR\\pycharm\\projects\\pneumonia-test\\mobilenet models')"
   ]
  },
  {
   "cell_type": "code",
   "execution_count": null,
   "id": "4b07c7b0",
   "metadata": {},
   "outputs": [],
   "source": [
    "df = pd.DataFrame(columns = [\"Layers_retrained\",\n",
    "                             \"Accuracy\", \"Precision\", \"Recall\",\"F1-score\",\n",
    "                             ])\n",
    "for n in parameter_layers:\n",
    "    print(f\"model {n}\")\n",
    "    new_model = load_model(f'mobilenet-full-{n}.h5')\n",
    "    predictions = new_model.predict(x=test_batches, steps=len(test_batches), verbose=0)\n",
    "    y_pred = np.argmax(predictions, axis=-1) #returns the indices of the max value along the rows\n",
    "    \n",
    "    def accuracy(true_labels , predicted_labels):\n",
    "        m = tf.keras.metrics.Accuracy()\n",
    "        m.update_state(true_labels,predicted_labels )\n",
    "        return m.result().numpy()\n",
    "    \n",
    "    acc = accuracy(true_labels = test_batches.classes,\n",
    "                      predicted_labels = y_pred)\n",
    "    print(f'accuracy: {acc}')\n",
    "\n",
    "    def precision(true_labels , predicted_labels):\n",
    "        m = tf.keras.metrics.Precision()\n",
    "        m.update_state(true_labels,predicted_labels )\n",
    "        return m.result().numpy()\n",
    "    \n",
    "    precsn = precision(true_labels = test_batches.classes,\n",
    "                        predicted_labels = y_pred)\n",
    "    print(f'precision: {precsn}')\n",
    "\n",
    "    def recall(true_labels , predicted_labels):\n",
    "        m = tf.keras.metrics.Recall()\n",
    "        m.update_state(true_labels,predicted_labels )\n",
    "        return m.result().numpy()\n",
    "    \n",
    "    recll = recall(true_labels = test_batches.classes,\n",
    "                        predicted_labels = y_pred)\n",
    "    print(f'recall: {recll}')\n",
    "\n",
    "    from sklearn.metrics import f1_score\n",
    "    def f_score(true_labels , predicted_labels):\n",
    "      return f1_score(true_labels , predicted_labels)\n",
    "\n",
    "    f1_score = f_score(true_labels = test_batches.classes,\n",
    "                        predicted_labels = y_pred)\n",
    "    print(f'f1-score: {f1_score}')\n",
    "    print()\n",
    "    df = df.append([{\"Layers_retrained\" : f\"{n}\",\n",
    "            \"Accuracy\" : acc,\n",
    "            \"Precision\": precsn,\n",
    "           \"Recall\" : recll,\n",
    "            \"F1-score\" :f1_score }],\n",
    "          ignore_index = True)\n",
    "df\n",
    "    "
   ]
  },
  {
   "cell_type": "code",
   "execution_count": null,
   "id": "d505d679",
   "metadata": {},
   "outputs": [],
   "source": [
    "df.to_excel('Mobilenet_full-dataset.xlsx')"
   ]
  },
  {
   "cell_type": "markdown",
   "id": "f8e83fc4",
   "metadata": {},
   "source": [
    "## Visuals"
   ]
  },
  {
   "cell_type": "code",
   "execution_count": 29,
   "id": "f2402246",
   "metadata": {},
   "outputs": [],
   "source": [
    "base_path = r'C:\\Users\\HR\\pycharm\\projects\\pneumonia-test\\git\\Pneumonia-Detection\\\\'\n",
    "eval_results = base_path + r'MobileNet\\evaluation\\Mobilenet_full-dataset.xlsx'\n",
    "df_full = pd.read_excel(eval_results)\n"
   ]
  },
  {
   "cell_type": "code",
   "execution_count": 30,
   "id": "95f4bc12",
   "metadata": {},
   "outputs": [],
   "source": [
    "del(df_full['Unnamed: 0'])"
   ]
  },
  {
   "cell_type": "code",
   "execution_count": 33,
   "id": "6b2a57e8",
   "metadata": {},
   "outputs": [
    {
     "data": {
      "text/plain": [
       "Index(['Accuracy', 'Precision', 'Recall', 'F1-score'], dtype='object')"
      ]
     },
     "execution_count": 33,
     "metadata": {},
     "output_type": "execute_result"
    }
   ],
   "source": [
    "df_full.columns"
   ]
  },
  {
   "cell_type": "code",
   "execution_count": 36,
   "id": "afd9eb5b",
   "metadata": {},
   "outputs": [
    {
     "data": {
      "text/plain": [
       "pandas.core.series.Series"
      ]
     },
     "execution_count": 36,
     "metadata": {},
     "output_type": "execute_result"
    }
   ],
   "source": [
    "#df_full = df_full.set_index('Layers_retrained')\n",
    "type(df_full['F1-score'])"
   ]
  },
  {
   "cell_type": "markdown",
   "id": "c875cfba",
   "metadata": {},
   "source": [
    "## All metrics"
   ]
  },
  {
   "cell_type": "code",
   "execution_count": null,
   "id": "582ba896",
   "metadata": {},
   "outputs": [],
   "source": [
    "df_full.plot()"
   ]
  },
  {
   "cell_type": "markdown",
   "id": "d40bf3a5",
   "metadata": {},
   "source": [
    "## F1-score"
   ]
  },
  {
   "cell_type": "code",
   "execution_count": null,
   "id": "d46caa09",
   "metadata": {},
   "outputs": [],
   "source": [
    "plt.figure(figsize = (10,7))\n",
    "plt.plot(df_full['F1-score'],color = 'red', label = 'MobileNets Unbalanced  Dataset')\n",
    "plt.xlabel('Layers retrained')\n",
    "plt.ylabel('F1-score')\n",
    "plt.legend()\n",
    "plt.title('F1 scores')\n",
    "plt.show()"
   ]
  },
  {
   "cell_type": "markdown",
   "id": "06390a38",
   "metadata": {},
   "source": [
    "## F-score, precision and recall"
   ]
  },
  {
   "cell_type": "code",
   "execution_count": null,
   "id": "7264f388",
   "metadata": {},
   "outputs": [],
   "source": [
    "plt.figure(figsize = (10,7))\n",
    "plt.plot(df_full['F1-score'],color = 'red', label = 'F1_score')\n",
    "plt.plot(df_full['Precision'],color = 'blue', label = 'Precision')\n",
    "plt.plot(df_full['Recall'],color = 'green', label = 'Recall')\n",
    "\n",
    "plt.xlabel('Layers retrained')\n",
    "plt.ylabel('score')\n",
    "plt.legend()\n",
    "plt.title('F1 scores,Precision,Recall')\n",
    "plt.show()"
   ]
  },
  {
   "cell_type": "code",
   "execution_count": null,
   "id": "484e96ae",
   "metadata": {},
   "outputs": [],
   "source": [
    "df_full"
   ]
  },
  {
   "cell_type": "markdown",
   "id": "b6b78380",
   "metadata": {},
   "source": [
    "Precision = tp/(tp + fp)  \n",
    "Precision = tp/predicted positives  \n",
    "High precision >> less false positives  \n",
    "\n",
    "Recall = tp/(tp + fn)  \n",
    "Recall = tp/ actual positives  \n",
    "High recall >> less false negatives  "
   ]
  },
  {
   "cell_type": "code",
   "execution_count": null,
   "id": "a4c0bae4",
   "metadata": {},
   "outputs": [],
   "source": [
    "def prepare_image_mobilenet(file):\n",
    "    #load image from file\n",
    "    img = load_img(file, target_size=(224, 224))\n",
    "    # convert the image pixels to a numpy array\n",
    "    img_arr = img_to_array(img)\n",
    "    # reshape data for the model\n",
    "    img_arr = img_arr.reshape((1, img_arr.shape[0], img_arr.shape[1], img_arr.shape[2]))\n",
    "    # same as np.expand_dims(img_array, axis=0)\n",
    "    return tf.keras.applications.mobilenet.preprocess_input(img_arr)"
   ]
  },
  {
   "cell_type": "code",
   "execution_count": null,
   "id": "afa1011a",
   "metadata": {},
   "outputs": [],
   "source": [
    "def predict(no_of_imgs, model_no):\n",
    "    base_path = r'C:\\Users\\HR\\pycharm\\projects\\pneumonia-test\\git\\Pneumonia-Detection\\\\'\n",
    "    normal_path = base_path + r'Datasets\\Unbalanced\\test\\NORMAL\\\\'\n",
    "    pneumonia_path = base_path + r'Datasets\\Unbalanced\\test\\PNEUMONIA\\\\'\n",
    "    paths = (normal_path, pneumonia_path)\n",
    "    \n",
    "    models_path = base_path + r'MobileNet\\models\\Unbalanced'\n",
    "    os.chdir(models_path)\n",
    "    new_model = load_model(f'mobilenet-full-{model_no}.h5')\n",
    "    print(f\"mobilenet-full-{model_no}.h5 loaded into memory\")\n",
    "    \n",
    "    output = dict()\n",
    "    output[f'model'] = f'mobilenet-full-{model_no}.h5'\n",
    "    output['model no'] = model_no\n",
    "    output['test imgs'] = no_of_imgs\n",
    "    print(f\"number of test images: {no_of_imgs}\")\n",
    "    for path in paths:\n",
    "        preds = []\n",
    "        for count,file_name in enumerate(os.listdir(path)):\n",
    "            if count <= no_of_imgs and count != 0:\n",
    "                file = path + file_name\n",
    "                img = prepare_image_mobilenet(file)\n",
    "                pred = new_model.predict(img)\n",
    "                pred = np.argmax(pred, axis=-1) #returns the indices of the max value along the rows\n",
    "                preds.append(pred[0])\n",
    "    \n",
    "        if 'NORMAL' in path:\n",
    "            print(f\"predictions on Normal images: {preds}\")\n",
    "            wrong_preds = preds.count(1)\n",
    "            print(f\"wrong(ie.false positives): {wrong_preds}\")\n",
    "            correct_preds = no_of_imgs - wrong_preds\n",
    "            print(f\"correct: {correct_preds}\")\n",
    "            output['false positives'] = wrong_preds\n",
    "        else:\n",
    "            print(f\"predictions on pneumonia images: {preds}\")\n",
    "            wrong_preds = preds.count(0)\n",
    "            print(f\"wrong (ie.false negatives): {wrong_preds}\")\n",
    "            correct_preds = no_of_imgs - wrong_preds\n",
    "            print(f\"correct: {correct_preds}\")\n",
    "            output['false negatives'] = wrong_preds\n",
    "    return output"
   ]
  },
  {
   "cell_type": "code",
   "execution_count": null,
   "id": "29d67249",
   "metadata": {},
   "outputs": [],
   "source": [
    "df_results = pd.DataFrame(columns = [\"Model\",\n",
    "                                     \"Model no\",\n",
    "                                     \"Test Images\",\n",
    "                                     \"False Positives\", \n",
    "                                     \"False Negatives\"\n",
    "                             ])\n",
    "\n",
    "for n in range(1, 88):\n",
    "    try:\n",
    "        output = predict(no_of_imgs=158, model_no = n)\n",
    "        df_results = df_results.append([{\"Model\" : output['model'],\n",
    "                                         \"Model no\": output['model no'],\n",
    "                                        \"Test Images\" : output['test imgs'],\n",
    "                                        \"False Positives\": output['false positives'],\n",
    "                                       \"False Negatives\" : output['false negatives']\n",
    "                                 }],\n",
    "                              ignore_index = True)\n",
    "    except OSError:\n",
    "        print(f'model {n} does not exist')\n",
    "    \n",
    "    print(df_results)\n",
    "  \n",
    "        \n",
    "        "
   ]
  },
  {
   "cell_type": "code",
   "execution_count": null,
   "id": "48e03495",
   "metadata": {},
   "outputs": [],
   "source": [
    "df_results.to_excel('test_results.xlsx')"
   ]
  },
  {
   "cell_type": "code",
   "execution_count": 4,
   "id": "c98001df",
   "metadata": {},
   "outputs": [],
   "source": [
    "base_path = r'C:\\Users\\HR\\pycharm\\projects\\pneumonia-test\\git\\Pneumonia-Detection\\\\'\n",
    "results_path = base_path + r'MobileNet\\evaluation\\test_results.xlsx'\n",
    "test_results = pd.read_excel(results_path)"
   ]
  },
  {
   "cell_type": "code",
   "execution_count": 5,
   "id": "25a1c182",
   "metadata": {},
   "outputs": [
    {
     "data": {
      "text/html": [
       "<div>\n",
       "<style scoped>\n",
       "    .dataframe tbody tr th:only-of-type {\n",
       "        vertical-align: middle;\n",
       "    }\n",
       "\n",
       "    .dataframe tbody tr th {\n",
       "        vertical-align: top;\n",
       "    }\n",
       "\n",
       "    .dataframe thead th {\n",
       "        text-align: right;\n",
       "    }\n",
       "</style>\n",
       "<table border=\"1\" class=\"dataframe\">\n",
       "  <thead>\n",
       "    <tr style=\"text-align: right;\">\n",
       "      <th></th>\n",
       "      <th>Unnamed: 0</th>\n",
       "      <th>Model</th>\n",
       "      <th>Model no</th>\n",
       "      <th>Test Images</th>\n",
       "      <th>False Positives</th>\n",
       "      <th>False Negatives</th>\n",
       "    </tr>\n",
       "  </thead>\n",
       "  <tbody>\n",
       "    <tr>\n",
       "      <th>0</th>\n",
       "      <td>0</td>\n",
       "      <td>mobilenet-full-1.h5</td>\n",
       "      <td>1</td>\n",
       "      <td>158</td>\n",
       "      <td>13</td>\n",
       "      <td>3</td>\n",
       "    </tr>\n",
       "    <tr>\n",
       "      <th>1</th>\n",
       "      <td>1</td>\n",
       "      <td>mobilenet-full-5.h5</td>\n",
       "      <td>5</td>\n",
       "      <td>158</td>\n",
       "      <td>8</td>\n",
       "      <td>2</td>\n",
       "    </tr>\n",
       "    <tr>\n",
       "      <th>2</th>\n",
       "      <td>2</td>\n",
       "      <td>mobilenet-full-8.h5</td>\n",
       "      <td>8</td>\n",
       "      <td>158</td>\n",
       "      <td>3</td>\n",
       "      <td>5</td>\n",
       "    </tr>\n",
       "    <tr>\n",
       "      <th>3</th>\n",
       "      <td>3</td>\n",
       "      <td>mobilenet-full-11.h5</td>\n",
       "      <td>11</td>\n",
       "      <td>158</td>\n",
       "      <td>18</td>\n",
       "      <td>0</td>\n",
       "    </tr>\n",
       "    <tr>\n",
       "      <th>4</th>\n",
       "      <td>4</td>\n",
       "      <td>mobilenet-full-14.h5</td>\n",
       "      <td>14</td>\n",
       "      <td>158</td>\n",
       "      <td>4</td>\n",
       "      <td>4</td>\n",
       "    </tr>\n",
       "  </tbody>\n",
       "</table>\n",
       "</div>"
      ],
      "text/plain": [
       "   Unnamed: 0                 Model  Model no  Test Images  False Positives  \\\n",
       "0           0   mobilenet-full-1.h5         1          158               13   \n",
       "1           1   mobilenet-full-5.h5         5          158                8   \n",
       "2           2   mobilenet-full-8.h5         8          158                3   \n",
       "3           3  mobilenet-full-11.h5        11          158               18   \n",
       "4           4  mobilenet-full-14.h5        14          158                4   \n",
       "\n",
       "   False Negatives  \n",
       "0                3  \n",
       "1                2  \n",
       "2                5  \n",
       "3                0  \n",
       "4                4  "
      ]
     },
     "execution_count": 5,
     "metadata": {},
     "output_type": "execute_result"
    }
   ],
   "source": [
    "test_results.head()"
   ]
  },
  {
   "cell_type": "code",
   "execution_count": null,
   "id": "d9fc6c39",
   "metadata": {},
   "outputs": [],
   "source": [
    "\n",
    "test_results.columns "
   ]
  },
  {
   "cell_type": "code",
   "execution_count": 6,
   "id": "9bc915e6",
   "metadata": {},
   "outputs": [],
   "source": [
    "del(test_results['Unnamed: 0'])"
   ]
  },
  {
   "cell_type": "code",
   "execution_count": 41,
   "id": "c139af03",
   "metadata": {},
   "outputs": [
    {
     "data": {
      "text/html": [
       "<div>\n",
       "<style scoped>\n",
       "    .dataframe tbody tr th:only-of-type {\n",
       "        vertical-align: middle;\n",
       "    }\n",
       "\n",
       "    .dataframe tbody tr th {\n",
       "        vertical-align: top;\n",
       "    }\n",
       "\n",
       "    .dataframe thead th {\n",
       "        text-align: right;\n",
       "    }\n",
       "</style>\n",
       "<table border=\"1\" class=\"dataframe\">\n",
       "  <thead>\n",
       "    <tr style=\"text-align: right;\">\n",
       "      <th></th>\n",
       "      <th>Accuracy</th>\n",
       "      <th>Precision</th>\n",
       "      <th>Recall</th>\n",
       "      <th>F1-score</th>\n",
       "    </tr>\n",
       "    <tr>\n",
       "      <th>Layers_retrained</th>\n",
       "      <th></th>\n",
       "      <th></th>\n",
       "      <th></th>\n",
       "      <th></th>\n",
       "    </tr>\n",
       "  </thead>\n",
       "  <tbody>\n",
       "    <tr>\n",
       "      <th>1</th>\n",
       "      <td>0.949367</td>\n",
       "      <td>0.922619</td>\n",
       "      <td>0.981013</td>\n",
       "      <td>0.950920</td>\n",
       "    </tr>\n",
       "    <tr>\n",
       "      <th>5</th>\n",
       "      <td>0.968354</td>\n",
       "      <td>0.951219</td>\n",
       "      <td>0.987342</td>\n",
       "      <td>0.968944</td>\n",
       "    </tr>\n",
       "    <tr>\n",
       "      <th>8</th>\n",
       "      <td>0.974684</td>\n",
       "      <td>0.980769</td>\n",
       "      <td>0.968354</td>\n",
       "      <td>0.974522</td>\n",
       "    </tr>\n",
       "    <tr>\n",
       "      <th>11</th>\n",
       "      <td>0.943038</td>\n",
       "      <td>0.897727</td>\n",
       "      <td>1.000000</td>\n",
       "      <td>0.946108</td>\n",
       "    </tr>\n",
       "    <tr>\n",
       "      <th>14</th>\n",
       "      <td>0.974684</td>\n",
       "      <td>0.974684</td>\n",
       "      <td>0.974684</td>\n",
       "      <td>0.974684</td>\n",
       "    </tr>\n",
       "    <tr>\n",
       "      <th>18</th>\n",
       "      <td>0.981013</td>\n",
       "      <td>0.975000</td>\n",
       "      <td>0.987342</td>\n",
       "      <td>0.981132</td>\n",
       "    </tr>\n",
       "    <tr>\n",
       "      <th>21</th>\n",
       "      <td>0.962025</td>\n",
       "      <td>0.986667</td>\n",
       "      <td>0.936709</td>\n",
       "      <td>0.961039</td>\n",
       "    </tr>\n",
       "    <tr>\n",
       "      <th>24</th>\n",
       "      <td>0.939873</td>\n",
       "      <td>0.892655</td>\n",
       "      <td>1.000000</td>\n",
       "      <td>0.943284</td>\n",
       "    </tr>\n",
       "    <tr>\n",
       "      <th>27</th>\n",
       "      <td>0.958861</td>\n",
       "      <td>0.923977</td>\n",
       "      <td>1.000000</td>\n",
       "      <td>0.960486</td>\n",
       "    </tr>\n",
       "    <tr>\n",
       "      <th>30</th>\n",
       "      <td>0.971519</td>\n",
       "      <td>0.951515</td>\n",
       "      <td>0.993671</td>\n",
       "      <td>0.972136</td>\n",
       "    </tr>\n",
       "    <tr>\n",
       "      <th>33</th>\n",
       "      <td>0.946203</td>\n",
       "      <td>0.902857</td>\n",
       "      <td>1.000000</td>\n",
       "      <td>0.948949</td>\n",
       "    </tr>\n",
       "    <tr>\n",
       "      <th>36</th>\n",
       "      <td>0.974684</td>\n",
       "      <td>0.962963</td>\n",
       "      <td>0.987342</td>\n",
       "      <td>0.975000</td>\n",
       "    </tr>\n",
       "    <tr>\n",
       "      <th>39</th>\n",
       "      <td>0.955696</td>\n",
       "      <td>0.923529</td>\n",
       "      <td>0.993671</td>\n",
       "      <td>0.957317</td>\n",
       "    </tr>\n",
       "    <tr>\n",
       "      <th>42</th>\n",
       "      <td>0.974684</td>\n",
       "      <td>0.957317</td>\n",
       "      <td>0.993671</td>\n",
       "      <td>0.975155</td>\n",
       "    </tr>\n",
       "    <tr>\n",
       "      <th>45</th>\n",
       "      <td>0.974684</td>\n",
       "      <td>0.957317</td>\n",
       "      <td>0.993671</td>\n",
       "      <td>0.975155</td>\n",
       "    </tr>\n",
       "    <tr>\n",
       "      <th>48</th>\n",
       "      <td>0.981013</td>\n",
       "      <td>0.987179</td>\n",
       "      <td>0.974684</td>\n",
       "      <td>0.980892</td>\n",
       "    </tr>\n",
       "    <tr>\n",
       "      <th>51</th>\n",
       "      <td>0.981013</td>\n",
       "      <td>0.969136</td>\n",
       "      <td>0.993671</td>\n",
       "      <td>0.981250</td>\n",
       "    </tr>\n",
       "    <tr>\n",
       "      <th>55</th>\n",
       "      <td>0.984177</td>\n",
       "      <td>0.975155</td>\n",
       "      <td>0.993671</td>\n",
       "      <td>0.984326</td>\n",
       "    </tr>\n",
       "    <tr>\n",
       "      <th>58</th>\n",
       "      <td>0.987342</td>\n",
       "      <td>0.981250</td>\n",
       "      <td>0.993671</td>\n",
       "      <td>0.987421</td>\n",
       "    </tr>\n",
       "    <tr>\n",
       "      <th>61</th>\n",
       "      <td>0.981013</td>\n",
       "      <td>0.963415</td>\n",
       "      <td>1.000000</td>\n",
       "      <td>0.981366</td>\n",
       "    </tr>\n",
       "    <tr>\n",
       "      <th>64</th>\n",
       "      <td>0.977848</td>\n",
       "      <td>0.957576</td>\n",
       "      <td>1.000000</td>\n",
       "      <td>0.978328</td>\n",
       "    </tr>\n",
       "    <tr>\n",
       "      <th>68</th>\n",
       "      <td>0.981013</td>\n",
       "      <td>0.963415</td>\n",
       "      <td>1.000000</td>\n",
       "      <td>0.981366</td>\n",
       "    </tr>\n",
       "    <tr>\n",
       "      <th>71</th>\n",
       "      <td>0.974684</td>\n",
       "      <td>0.962963</td>\n",
       "      <td>0.987342</td>\n",
       "      <td>0.975000</td>\n",
       "    </tr>\n",
       "    <tr>\n",
       "      <th>74</th>\n",
       "      <td>0.981013</td>\n",
       "      <td>0.969136</td>\n",
       "      <td>0.993671</td>\n",
       "      <td>0.981250</td>\n",
       "    </tr>\n",
       "    <tr>\n",
       "      <th>77</th>\n",
       "      <td>0.930380</td>\n",
       "      <td>0.882023</td>\n",
       "      <td>0.993671</td>\n",
       "      <td>0.934524</td>\n",
       "    </tr>\n",
       "    <tr>\n",
       "      <th>81</th>\n",
       "      <td>0.971519</td>\n",
       "      <td>0.951515</td>\n",
       "      <td>0.993671</td>\n",
       "      <td>0.972136</td>\n",
       "    </tr>\n",
       "    <tr>\n",
       "      <th>84</th>\n",
       "      <td>0.949367</td>\n",
       "      <td>0.912791</td>\n",
       "      <td>0.993671</td>\n",
       "      <td>0.951515</td>\n",
       "    </tr>\n",
       "    <tr>\n",
       "      <th>87</th>\n",
       "      <td>0.977848</td>\n",
       "      <td>0.963190</td>\n",
       "      <td>0.993671</td>\n",
       "      <td>0.978193</td>\n",
       "    </tr>\n",
       "  </tbody>\n",
       "</table>\n",
       "</div>"
      ],
      "text/plain": [
       "                  Accuracy  Precision    Recall  F1-score\n",
       "Layers_retrained                                         \n",
       "1                 0.949367   0.922619  0.981013  0.950920\n",
       "5                 0.968354   0.951219  0.987342  0.968944\n",
       "8                 0.974684   0.980769  0.968354  0.974522\n",
       "11                0.943038   0.897727  1.000000  0.946108\n",
       "14                0.974684   0.974684  0.974684  0.974684\n",
       "18                0.981013   0.975000  0.987342  0.981132\n",
       "21                0.962025   0.986667  0.936709  0.961039\n",
       "24                0.939873   0.892655  1.000000  0.943284\n",
       "27                0.958861   0.923977  1.000000  0.960486\n",
       "30                0.971519   0.951515  0.993671  0.972136\n",
       "33                0.946203   0.902857  1.000000  0.948949\n",
       "36                0.974684   0.962963  0.987342  0.975000\n",
       "39                0.955696   0.923529  0.993671  0.957317\n",
       "42                0.974684   0.957317  0.993671  0.975155\n",
       "45                0.974684   0.957317  0.993671  0.975155\n",
       "48                0.981013   0.987179  0.974684  0.980892\n",
       "51                0.981013   0.969136  0.993671  0.981250\n",
       "55                0.984177   0.975155  0.993671  0.984326\n",
       "58                0.987342   0.981250  0.993671  0.987421\n",
       "61                0.981013   0.963415  1.000000  0.981366\n",
       "64                0.977848   0.957576  1.000000  0.978328\n",
       "68                0.981013   0.963415  1.000000  0.981366\n",
       "71                0.974684   0.962963  0.987342  0.975000\n",
       "74                0.981013   0.969136  0.993671  0.981250\n",
       "77                0.930380   0.882023  0.993671  0.934524\n",
       "81                0.971519   0.951515  0.993671  0.972136\n",
       "84                0.949367   0.912791  0.993671  0.951515\n",
       "87                0.977848   0.963190  0.993671  0.978193"
      ]
     },
     "execution_count": 41,
     "metadata": {},
     "output_type": "execute_result"
    }
   ],
   "source": [
    "df_full"
   ]
  },
  {
   "cell_type": "code",
   "execution_count": 43,
   "id": "a3091df0",
   "metadata": {},
   "outputs": [],
   "source": [
    "#test_df = test_results.set_index('Model no')\n",
    "#test_df['F-score'] = df_full['F1-score']\n",
    "os.chdir(base_path + r'MobileNet\\evaluation')\n",
    "test_df.to_csv('false_preds_fscore.csv')"
   ]
  },
  {
   "cell_type": "code",
   "execution_count": 42,
   "id": "2402ce4f",
   "metadata": {},
   "outputs": [
    {
     "data": {
      "text/html": [
       "<div>\n",
       "<style scoped>\n",
       "    .dataframe tbody tr th:only-of-type {\n",
       "        vertical-align: middle;\n",
       "    }\n",
       "\n",
       "    .dataframe tbody tr th {\n",
       "        vertical-align: top;\n",
       "    }\n",
       "\n",
       "    .dataframe thead th {\n",
       "        text-align: right;\n",
       "    }\n",
       "</style>\n",
       "<table border=\"1\" class=\"dataframe\">\n",
       "  <thead>\n",
       "    <tr style=\"text-align: right;\">\n",
       "      <th></th>\n",
       "      <th>Model</th>\n",
       "      <th>Test Images</th>\n",
       "      <th>False Positives</th>\n",
       "      <th>False Negatives</th>\n",
       "      <th>F-score</th>\n",
       "    </tr>\n",
       "    <tr>\n",
       "      <th>Model no</th>\n",
       "      <th></th>\n",
       "      <th></th>\n",
       "      <th></th>\n",
       "      <th></th>\n",
       "      <th></th>\n",
       "    </tr>\n",
       "  </thead>\n",
       "  <tbody>\n",
       "    <tr>\n",
       "      <th>14</th>\n",
       "      <td>mobilenet-full-14.h5</td>\n",
       "      <td>158</td>\n",
       "      <td>4</td>\n",
       "      <td>4</td>\n",
       "      <td>0.974684</td>\n",
       "    </tr>\n",
       "    <tr>\n",
       "      <th>18</th>\n",
       "      <td>mobilenet-full-18.h5</td>\n",
       "      <td>158</td>\n",
       "      <td>4</td>\n",
       "      <td>2</td>\n",
       "      <td>0.981132</td>\n",
       "    </tr>\n",
       "    <tr>\n",
       "      <th>48</th>\n",
       "      <td>mobilenet-full-48.h5</td>\n",
       "      <td>158</td>\n",
       "      <td>2</td>\n",
       "      <td>4</td>\n",
       "      <td>0.980892</td>\n",
       "    </tr>\n",
       "    <tr>\n",
       "      <th>55</th>\n",
       "      <td>mobilenet-full-55.h5</td>\n",
       "      <td>158</td>\n",
       "      <td>4</td>\n",
       "      <td>1</td>\n",
       "      <td>0.984326</td>\n",
       "    </tr>\n",
       "    <tr>\n",
       "      <th>58</th>\n",
       "      <td>mobilenet-full-58.h5</td>\n",
       "      <td>158</td>\n",
       "      <td>3</td>\n",
       "      <td>1</td>\n",
       "      <td>0.987421</td>\n",
       "    </tr>\n",
       "  </tbody>\n",
       "</table>\n",
       "</div>"
      ],
      "text/plain": [
       "                         Model  Test Images  False Positives  False Negatives  \\\n",
       "Model no                                                                        \n",
       "14        mobilenet-full-14.h5          158                4                4   \n",
       "18        mobilenet-full-18.h5          158                4                2   \n",
       "48        mobilenet-full-48.h5          158                2                4   \n",
       "55        mobilenet-full-55.h5          158                4                1   \n",
       "58        mobilenet-full-58.h5          158                3                1   \n",
       "\n",
       "           F-score  \n",
       "Model no            \n",
       "14        0.974684  \n",
       "18        0.981132  \n",
       "48        0.980892  \n",
       "55        0.984326  \n",
       "58        0.987421  "
      ]
     },
     "execution_count": 42,
     "metadata": {},
     "output_type": "execute_result"
    }
   ],
   "source": [
    "test_df.loc[(test_df['False Positives'] <= 4) & (test_df['False Negatives'] <= 4 )]"
   ]
  },
  {
   "cell_type": "code",
   "execution_count": 8,
   "id": "49135cf4",
   "metadata": {},
   "outputs": [
    {
     "data": {
      "text/plain": [
       "<AxesSubplot:xlabel='Model no'>"
      ]
     },
     "execution_count": 8,
     "metadata": {},
     "output_type": "execute_result"
    },
    {
     "data": {
      "image/png": "[encoded data removed]",
      "text/plain": [
       "<Figure size 432x288 with 1 Axes>"
      ]
     },
     "metadata": {
      "needs_background": "light"
     },
     "output_type": "display_data"
    }
   ],
   "source": [
    "test_df.plot()"
   ]
  },
  {
   "cell_type": "code",
   "execution_count": 14,
   "id": "323c1842",
   "metadata": {},
   "outputs": [
    {
     "data": {
      "image/png": "[encoded data removed]",
      "text/plain": [
       "<Figure size 720x504 with 1 Axes>"
      ]
     },
     "metadata": {
      "needs_background": "light"
     },
     "output_type": "display_data"
    }
   ],
   "source": [
    "plt.figure(figsize = (10,7))\n",
    "plt.plot(test_df['False Positives'],color = 'red', label = 'False Positives')\n",
    "plt.plot(test_df['False Negatives'],color = 'green', label = 'False Negatives')\n",
    "\n",
    "plt.xlabel('Layers retrained')\n",
    "plt.ylabel('Number')\n",
    "plt.legend()\n",
    "plt.title('False Positives and False Negatives on a Test set of 158 images per class') \n",
    "plt.show()"
   ]
  },
  {
   "cell_type": "code",
   "execution_count": null,
   "id": "7d27f2a8",
   "metadata": {},
   "outputs": [],
   "source": []
  }
 ],
 "metadata": {
  "kernelspec": {
   "display_name": "Python [conda env:py37]",
   "language": "python",
   "name": "conda-env-py37-py"
  },
  "language_info": {
   "codemirror_mode": {
    "name": "ipython",
    "version": 3
   },
   "file_extension": ".py",
   "mimetype": "text/x-python",
   "name": "python",
   "nbconvert_exporter": "python",
   "pygments_lexer": "ipython3",
   "version": "3.7.10"
  }
 },
 "nbformat": 4,
 "nbformat_minor": 5
}
