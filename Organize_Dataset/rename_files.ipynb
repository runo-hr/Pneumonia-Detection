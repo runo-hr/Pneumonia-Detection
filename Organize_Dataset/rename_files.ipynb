{
 "cells": [
  {
   "cell_type": "code",
   "execution_count": 1,
   "id": "f7206e8c",
   "metadata": {},
   "outputs": [],
   "source": [
    "import os"
   ]
  },
  {
   "cell_type": "code",
   "execution_count": 6,
   "id": "09c2398a",
   "metadata": {},
   "outputs": [],
   "source": [
    "Xrays = r'C:\\Users\\HR\\pycharm\\projects\\pneumonia\\chest_xray\\xray\\\\'"
   ]
  },
  {
   "cell_type": "code",
   "execution_count": 19,
   "id": "9bb0ecea",
   "metadata": {},
   "outputs": [
    {
     "name": "stdout",
     "output_type": "stream",
     "text": [
      "test\n",
      "NORMAL\n",
      "PNEUMONIA\n",
      "train\n",
      "NORMAL\n",
      "PNEUMONIA\n",
      "val\n",
      "NORMAL\n",
      "PNEUMONIA\n"
     ]
    }
   ],
   "source": [
    "for dir in os.listdir(Xrays):\n",
    "    print(dir)\n",
    "    for category in os.listdir(Xrays + dir ):\n",
    "        print(category)\n",
    "        for count, filename in enumerate(os.listdir(Xrays + dir + '\\\\' + category)):\n",
    "            path = Xrays + dir + '\\\\' + category\n",
    "            src = path + '\\\\'+ filename\n",
    "            dst = category + str(count) + filename\n",
    "            dst = path + '\\\\' + dst\n",
    "            \n",
    "            os.rename(src, dst)\n"
   ]
  },
  {
   "cell_type": "code",
   "execution_count": null,
   "id": "ecb8f66a",
   "metadata": {},
   "outputs": [],
   "source": []
  }
 ],
 "metadata": {
  "kernelspec": {
   "display_name": "Python [conda env:py37]",
   "language": "python",
   "name": "conda-env-py37-py"
  },
  "language_info": {
   "codemirror_mode": {
    "name": "ipython",
    "version": 3
   },
   "file_extension": ".py",
   "mimetype": "text/x-python",
   "name": "python",
   "nbconvert_exporter": "python",
   "pygments_lexer": "ipython3",
   "version": "3.7.10"
  }
 },
 "nbformat": 4,
 "nbformat_minor": 5
}
