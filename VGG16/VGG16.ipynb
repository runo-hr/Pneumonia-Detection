{
 "cells": [
  {
   "cell_type": "code",
   "execution_count": 1,
   "id": "b3f8a84e",
   "metadata": {
    "executionInfo": {
     "elapsed": 6420,
     "status": "ok",
     "timestamp": 1633005661382,
     "user": {
      "displayName": "Harris Mwangi",
      "photoUrl": "https://lh3.googleusercontent.com/a/default-user=s64",
      "userId": "11795993689439819789"
     },
     "user_tz": 420
    },
    "id": "5d75ea32-2fe8-4b40-b5ce-e482801bb1b5"
   },
   "outputs": [],
   "source": [
    "import os\n",
    "import shutil\n",
    "import random\n",
    "import glob\n",
    "\n",
    "import tensorflow as tf\n",
    "from tensorflow.keras.preprocessing.image import  ImageDataGenerator\n",
    "import matplotlib.pyplot as plt\n",
    "\n",
    "from tensorflow.keras.models import Sequential\n",
    "from tensorflow.keras.preprocessing.image import load_img\n",
    "from tensorflow.keras.preprocessing.image import img_to_array\n",
    "from tensorflow.keras.applications.vgg16 import decode_predictions\n",
    "from tensorflow.keras.utils import plot_model\n",
    "from tensorflow.keras.layers import Activation, Dense, Flatten, BatchNormalization, Conv2D, MaxPool2D\n",
    "from tensorflow.keras.optimizers import Adam\n",
    "from tensorflow.keras.metrics import categorical_crossentropy\n",
    "import pandas as pd\n",
    "import numpy as np\n",
    "from sklearn.metrics import confusion_matrix\n",
    "import itertools\n"
   ]
  },
  {
   "cell_type": "code",
   "execution_count": null,
   "id": "be441e13",
   "metadata": {
    "id": "qlp5iMhOGbyv"
   },
   "outputs": [],
   "source": [
    "from google.colab import drive\n",
    "drive.mount('/content/drive')"
   ]
  },
  {
   "cell_type": "code",
   "execution_count": null,
   "id": "9cca5af4",
   "metadata": {
    "id": "a60cd71f-a6f5-465a-9cb0-894bd6714dde"
   },
   "outputs": [],
   "source": [
    "vgg16_model = tf.keras.applications.vgg16.VGG16()\n"
   ]
  },
  {
   "cell_type": "code",
   "execution_count": null,
   "id": "aed7088d",
   "metadata": {
    "id": "c51d5dea-24eb-448c-991d-e5b57a9be88d"
   },
   "outputs": [],
   "source": [
    "#plot_model(vgg16_model)"
   ]
  },
  {
   "cell_type": "code",
   "execution_count": null,
   "id": "b3b732ed",
   "metadata": {
    "id": "780f43d6-9013-4635-b406-9da28a207114"
   },
   "outputs": [],
   "source": [
    "#vgg16_model.summary()\n"
   ]
  },
  {
   "cell_type": "markdown",
   "id": "af2cf2f6",
   "metadata": {
    "id": "fc93a481-714c-4ec1-86c8-902157d9a48d"
   },
   "source": [
    "## vgg16 summary\n",
    "input layer >> 5 blocks >> flatten >> 2 dense layers >> output layer\n",
    "\n",
    "### Blocks\n",
    " \n",
    "#### Block 1 & Block 2: \n",
    "\n",
    "Two conv layers (each with 64 filters in block 1 and 128 filters block 2), zero padding(image dimensions preserved), one max pooling layer - 2x2 with a stride of 2 (image dimensions are reduced in half)\n",
    "\n",
    "#### Block 3 - Block 5:\n",
    "\n",
    "3 conv layers (256 filters >> 512 for 4 and 5), max pooling layer\n",
    "\n",
    "#### Flatten layer\n",
    "Block 5 max pooling output 7 * 7 * 512 = 25088\n",
    "\n",
    "2 Dense layers 4096 units each\n",
    "\n",
    "output layer: 1000 units for 1000 classes\n",
    "\n",
    "23 total layers"
   ]
  },
  {
   "cell_type": "markdown",
   "id": "4c7b8b0c",
   "metadata": {
    "id": "0c456ceb-b420-438b-b26b-a7e04b3b5a55"
   },
   "source": [
    "## Convolution operation\n",
    "nxn image\n",
    "\n",
    "output  = (n - f + 1)  X (n - f + 1)\n",
    "\n",
    "## Maxpooling\n",
    "Reduce computational load\n",
    "\n",
    "Reduce overfitting: Pick only the most activated pixels  and discard the low. The model learns what to identify and what not to"
   ]
  },
  {
   "cell_type": "markdown",
   "id": "2a335049",
   "metadata": {
    "id": "f311a63d-62a1-468e-b75e-9565f0608f47"
   },
   "source": [
    "# Data preprocessing"
   ]
  },
  {
   "cell_type": "code",
   "execution_count": null,
   "id": "83531bd6",
   "metadata": {
    "executionInfo": {
     "elapsed": 554,
     "status": "ok",
     "timestamp": 1633005687206,
     "user": {
      "displayName": "Harris Mwangi",
      "photoUrl": "https://lh3.googleusercontent.com/a/default-user=s64",
      "userId": "11795993689439819789"
     },
     "user_tz": 420
    },
    "id": "25fF7LJYIBZd"
   },
   "outputs": [],
   "source": [
    "os.chdir('/content/drive/MyDrive/Dataset2/')"
   ]
  },
  {
   "cell_type": "code",
   "execution_count": null,
   "id": "59a7c9d6",
   "metadata": {
    "executionInfo": {
     "elapsed": 715,
     "status": "ok",
     "timestamp": 1633005691799,
     "user": {
      "displayName": "Harris Mwangi",
      "photoUrl": "https://lh3.googleusercontent.com/a/default-user=s64",
      "userId": "11795993689439819789"
     },
     "user_tz": 420
    },
    "id": "aab9c267-e350-4624-9b98-6c18c0ddb36e"
   },
   "outputs": [],
   "source": [
    "train_path2 = '/content/drive/MyDrive/Dataset2/train'\n",
    "valid_path2 = '/content/drive/MyDrive/Dataset2/valid'\n",
    "test_path2 =  '/content/drive/MyDrive/Dataset2/test'"
   ]
  },
  {
   "cell_type": "code",
   "execution_count": null,
   "id": "fa4463cf",
   "metadata": {
    "colab": {
     "base_uri": "https://localhost:8080/"
    },
    "executionInfo": {
     "elapsed": 8,
     "status": "ok",
     "timestamp": 1633005696582,
     "user": {
      "displayName": "Harris Mwangi",
      "photoUrl": "https://lh3.googleusercontent.com/a/default-user=s64",
      "userId": "11795993689439819789"
     },
     "user_tz": 420
    },
    "id": "5a15f2df-9926-4d2b-b2dc-d3b2257f3f38",
    "outputId": "9596616f-7d2e-4b17-fa0e-90027773482b"
   },
   "outputs": [],
   "source": [
    "data_gen = ImageDataGenerator(preprocessing_function=tf.keras.applications.vgg16.preprocess_input)\n",
    "train_batches2 = data_gen.flow_from_directory(directory=train_path2, \n",
    "                                               target_size=(224,224),\n",
    "                                               classes = ['NORMAL','PNEUMONIA'],\n",
    "                                               batch_size=10)\n",
    "\n",
    "valid_batches2 = data_gen.flow_from_directory(directory=valid_path2, \n",
    "                                               target_size=(224,224),\n",
    "                                               classes = ['NORMAL','PNEUMONIA'],\n",
    "                                               batch_size=10)\n",
    "\n",
    "test_batches2 = data_gen.flow_from_directory(directory=test_path2, \n",
    "                                               target_size=(224,224),\n",
    "                                               classes = ['NORMAL','PNEUMONIA'],\n",
    "                                               batch_size=10,\n",
    "                                             shuffle = False)\n"
   ]
  },
  {
   "cell_type": "markdown",
   "id": "da6f814b",
   "metadata": {
    "id": "d4747fc4-ff73-4f58-9b98-540bc47b1556"
   },
   "source": [
    "## Predictions before Transfer Learning"
   ]
  },
  {
   "cell_type": "code",
   "execution_count": null,
   "id": "c850d757",
   "metadata": {
    "id": "3eb34805-c998-4fc4-9f07-6685f68adfd4"
   },
   "outputs": [],
   "source": [
    "test_IMG ='/content/drive/MyDrive/Dataset2/test/NORMAL/NORMAL0NORMAL2-IM-1427-0001.jpeg'\n",
    "test_IMG"
   ]
  },
  {
   "cell_type": "code",
   "execution_count": null,
   "id": "f453853c",
   "metadata": {
    "id": "81c0b92c-27fb-46e0-9866-f79512548154"
   },
   "outputs": [],
   "source": [
    "def prepare_image_vgg16(file):\n",
    "    #load image from file\n",
    "    image = load_img(file, target_size=(224, 224))\n",
    "    # convert the image pixels to a numpy array\n",
    "    image = img_to_array(image)\n",
    "    # reshape data for the model\n",
    "    image = image.reshape((1, image.shape[0], image.shape[1], image.shape[2]))\n",
    "    # same as np.expand_dims(img_array, axis=0)\n",
    "    return tf.keras.applications.vgg16.preprocess_input(image)"
   ]
  },
  {
   "cell_type": "code",
   "execution_count": null,
   "id": "5e2422fa",
   "metadata": {
    "id": "4e803c5c-9fe2-4adc-a8bc-d47b82d3ac45"
   },
   "outputs": [],
   "source": [
    "image = prepare_image_vgg16(test_IMG)\n",
    "plt.imshow(tf.squeeze(image))# squeeze removes the extra dimension added when preparing the image \n",
    "# for matplotlib to display the image"
   ]
  },
  {
   "cell_type": "code",
   "execution_count": null,
   "id": "e5a3b6db",
   "metadata": {
    "id": "440d906d-9eca-4a7f-b399-82f934ec0e3a"
   },
   "outputs": [],
   "source": [
    "# predict the probability across all output classes\n",
    "yhat = vgg16_model.predict(image)\n",
    "#yhat"
   ]
  },
  {
   "cell_type": "code",
   "execution_count": null,
   "id": "bd525590",
   "metadata": {
    "id": "604ec20f-a5f8-41f6-b0b7-ab8867297468"
   },
   "outputs": [],
   "source": [
    "# convert the probabilities to class labels\n",
    "label = decode_predictions(yhat)\n",
    "label"
   ]
  },
  {
   "cell_type": "code",
   "execution_count": null,
   "id": "c7d85fe6",
   "metadata": {
    "id": "e061dee3-ba0b-46ad-af01-7c50fd599c67"
   },
   "outputs": [],
   "source": [
    "# retrieve the most likely result, e.g. highest probability\n",
    "label = label[0][0]\n",
    "label"
   ]
  },
  {
   "cell_type": "code",
   "execution_count": null,
   "id": "92e0316a",
   "metadata": {
    "id": "f40a70c8-b3ec-44e0-a0d5-8e72aeeae217"
   },
   "outputs": [],
   "source": [
    "# print the classification\n",
    "print('%s (%.2f%%)' % (label[1], label[2]*100))"
   ]
  },
  {
   "cell_type": "markdown",
   "id": "c8ee3b5d",
   "metadata": {
    "id": "1b875509-ba3e-4072-9210-a7cfdb153056"
   },
   "source": [
    "### Summary\n",
    "Highest prediction: conch (32.02%)\n",
    "\n",
    "all predictions:\n",
    "\n",
    "[[('n01943899', 'conch', 0.32015178),\n",
    "  ('n04557648', 'water_bottle', 0.19363283),\n",
    "  ('n04590129', 'window_shade', 0.07608834),\n",
    "  ('n01990800', 'isopod', 0.05376595),\n",
    "  ('n03637318', 'lampshade', 0.023107912)]]\n",
    "\n",
    "\n",
    "Conch (/kɒŋk, kɒntʃ/) is a common name of a number of different medium-to-large-sized sea snails.\n",
    "\n",
    "Its clear  that chest x-rays were not in the imagenet dataset"
   ]
  },
  {
   "cell_type": "markdown",
   "id": "77dceaee",
   "metadata": {
    "id": "125e2703-0179-44e7-80c8-1d497b92d66a"
   },
   "source": [
    "# Transfer Learning  \n",
    "Here we adapt the vgg16 model to our custom data set.  \n",
    "We transfer what the model learnt on the imagenet dataset to classifying chest x-rays as either Pneunomia or Normal. \n",
    "\n",
    "To do this, we determine the number of layers to retrain.  \n",
    "Specifically, we take the following steps:  \n",
    "<ol>\n",
    "  <li>Determine the index of the layers having parameters </li>\n",
    "  <li>Retrain the vgg16 model saving the different variations</li>\n",
    "  <li>Evaluate the diiferent models on the test set</li>\n",
    "  <li>Pick the best model</li>\n",
    "  <li>Proceed to model deployment</li>  \n",
    "</ol>"
   ]
  },
  {
   "cell_type": "markdown",
   "id": "061e605a",
   "metadata": {},
   "source": [
    "### Parameter Layers "
   ]
  },
  {
   "cell_type": "code",
   "execution_count": 3,
   "id": "0330f65c",
   "metadata": {},
   "outputs": [],
   "source": [
    "#n in parameter layers is counted from the last layer, excluding the output layer\n",
    "all_parameter_layers = [2, 5, 6, 7, 9, 10, 11, 13, 14, 15, 17, 18, 20, 21]\n",
    "#half the layers with trainable parameters starting from second last\n",
    "parameter_layers = [ 2, 5, 7, 10, 13, 15, 18, 20]"
   ]
  },
  {
   "cell_type": "markdown",
   "id": "9272e3a4",
   "metadata": {
    "id": "JS1KeHnF0jv4"
   },
   "source": [
    "### Training Different variations"
   ]
  },
  {
   "cell_type": "code",
   "execution_count": null,
   "id": "406149cd",
   "metadata": {
    "executionInfo": {
     "elapsed": 6112912,
     "status": "ok",
     "timestamp": 1632763756476,
     "user": {
      "displayName": "Harris Mwangi",
      "photoUrl": "https://lh3.googleusercontent.com/a/default-user=s64",
      "userId": "11795993689439819789"
     },
     "user_tz": 420
    },
    "id": "VfLicyrE1L9n",
    "outputId": "886969cb-e334-4316-8968-b3636f092383"
   },
   "outputs": [],
   "source": [
    "#half the layers with trainable parameters starting from second last\n",
    "parameter_layers = [ 2, 5, 7, 10, 13, 15, 18, 20] \n",
    "for n in parameter_layers:\n",
    "  print(n)\n",
    "  vgg16_model = tf.keras.applications.vgg16.VGG16()\n",
    "  model = Sequential()\n",
    "  for layer in vgg16_model.layers[:-1]:\n",
    "      model.add(layer)\n",
    "\n",
    "  for layer in model.layers[:-n]:\n",
    "    layer.trainable = False\n",
    "    \n",
    "  model.add(Dense(units=2, activation='softmax'))\n",
    "  model.summary()\n",
    "  print()\n",
    "\n",
    "  model.compile(optimizer=Adam(learning_rate=0.0001), \n",
    "              loss='categorical_crossentropy',\n",
    "              metrics=['accuracy'])\n",
    "\n",
    "  history = model.fit(x=train_batches2,\n",
    "      steps_per_epoch = len(train_batches2),\n",
    "      validation_data = valid_batches2,\n",
    "      validation_steps = len(valid_batches2),\n",
    "      epochs=10,\n",
    "      verbose=2\n",
    "  )\n",
    "\n",
    "  model.save(f\"vgg16-{n}.h5\")\n"
   ]
  },
  {
   "cell_type": "markdown",
   "id": "92fb69fb",
   "metadata": {
    "id": "d59hZH8t6-Ev"
   },
   "source": [
    "### Creating a dataframe of evaluation metrics"
   ]
  },
  {
   "cell_type": "code",
   "execution_count": null,
   "id": "9886da7f",
   "metadata": {
    "id": "zQarB5wa3K2M"
   },
   "outputs": [],
   "source": [
    "test_batches2.class_indices,test_batches2.classes"
   ]
  },
  {
   "cell_type": "code",
   "execution_count": null,
   "id": "c0d09e81",
   "metadata": {
    "executionInfo": {
     "elapsed": 561,
     "status": "ok",
     "timestamp": 1633005735241,
     "user": {
      "displayName": "Harris Mwangi",
      "photoUrl": "https://lh3.googleusercontent.com/a/default-user=s64",
      "userId": "11795993689439819789"
     },
     "user_tz": 420
    },
    "id": "tRpK_f8CBH5L"
   },
   "outputs": [],
   "source": [
    "df = pd.DataFrame(columns = [\"Layers_retrained\",\n",
    "                             \"Accuracy\", \"Precision\", \"Recall\",\"F1-score\",\n",
    "                             ])"
   ]
  },
  {
   "cell_type": "code",
   "execution_count": null,
   "id": "49bbf3ae",
   "metadata": {},
   "outputs": [],
   "source": [
    "# n in parameter layers is counted from the last layer, excluding the output layer\n",
    "parameter_layers = [ 2, 5, 7, 10, 13, 15, 18, 20, 21] "
   ]
  },
  {
   "cell_type": "code",
   "execution_count": null,
   "id": "a29e9d33",
   "metadata": {
    "executionInfo": {
     "elapsed": 44022,
     "status": "ok",
     "timestamp": 1633006338828,
     "user": {
      "displayName": "Harris Mwangi",
      "photoUrl": "https://lh3.googleusercontent.com/a/default-user=s64",
      "userId": "11795993689439819789"
     },
     "user_tz": 420
    },
    "id": "C4Tz7_Zzcibt"
   },
   "outputs": [],
   "source": [
    "n = 21\n",
    "new_model = tf.keras.models.load_model(f\"vgg16-{n}.h5\")"
   ]
  },
  {
   "cell_type": "code",
   "execution_count": null,
   "id": "4c062169",
   "metadata": {
    "executionInfo": {
     "elapsed": 119157,
     "status": "ok",
     "timestamp": 1633006481851,
     "user": {
      "displayName": "Harris Mwangi",
      "photoUrl": "https://lh3.googleusercontent.com/a/default-user=s64",
      "userId": "11795993689439819789"
     },
     "user_tz": 420
    },
    "id": "KyOy0wHsdEl8"
   },
   "outputs": [],
   "source": [
    "predictions = new_model.predict(x=test_batches2, steps=len(test_batches2), verbose=0)\n",
    "y_pred = np.argmax(predictions, axis=-1) #returns the indices of the max value along the rows"
   ]
  },
  {
   "cell_type": "code",
   "execution_count": null,
   "id": "41106819",
   "metadata": {
    "executionInfo": {
     "elapsed": 515,
     "status": "ok",
     "timestamp": 1633006540793,
     "user": {
      "displayName": "Harris Mwangi",
      "photoUrl": "https://lh3.googleusercontent.com/a/default-user=s64",
      "userId": "11795993689439819789"
     },
     "user_tz": 420
    },
    "id": "jlaTGVxK3rtx"
   },
   "outputs": [],
   "source": [
    "def accuracy(true_labels , predicted_labels):\n",
    "    m = tf.keras.metrics.Accuracy()\n",
    "    m.update_state(true_labels,predicted_labels )\n",
    "    return m.result().numpy()\n",
    "\n",
    "def precision(true_labels , predicted_labels):\n",
    "    m = tf.keras.metrics.Precision()\n",
    "    m.update_state(true_labels,predicted_labels )\n",
    "    return m.result().numpy()\n",
    "\n",
    "def recall(true_labels , predicted_labels):\n",
    "    m = tf.keras.metrics.Recall()\n",
    "    m.update_state(true_labels,predicted_labels )\n",
    "    return m.result().numpy()\n",
    "\n",
    "from sklearn.metrics import f1_score\n",
    "def f_score(true_labels , predicted_labels):\n",
    "  return f1_score(true_labels , predicted_labels)"
   ]
  },
  {
   "cell_type": "code",
   "execution_count": null,
   "id": "44afdf49",
   "metadata": {
    "colab": {
     "base_uri": "https://localhost:8080/",
     "height": 216
    },
    "executionInfo": {
     "elapsed": 477,
     "status": "ok",
     "timestamp": 1633006548069,
     "user": {
      "displayName": "Harris Mwangi",
      "photoUrl": "https://lh3.googleusercontent.com/a/default-user=s64",
      "userId": "11795993689439819789"
     },
     "user_tz": 420
    },
    "id": "0f_EDtzsdUI7",
    "outputId": "b0c80509-70f6-4255-b984-2ab5fa2f925f"
   },
   "outputs": [],
   "source": [
    "acc = accuracy(true_labels = test_batches2.classes,\n",
    "                      predicted_labels = y_pred)\n",
    "print(f'accuracy: {acc}')\n",
    "\n",
    "precsn = precision(true_labels = test_batches2.classes,\n",
    "                    predicted_labels = y_pred)\n",
    "print(f'precision: {precsn}')\n",
    "\n",
    "recll = recall(true_labels = test_batches2.classes,\n",
    "                    predicted_labels = y_pred)\n",
    "print(f'recall: {recll}')\n",
    "\n",
    "f1_score = f_score(true_labels = test_batches2.classes,\n",
    "                    predicted_labels = y_pred)\n",
    "print(f'f1-score: {f1_score}')\n",
    "\n",
    "# layers_retrained = n + output_layer\n",
    "df = df.append([{\"Layers_retrained\" : f\"{n + 1}\",\n",
    "            \"Accuracy\" : acc,\n",
    "            \"Precision\": precsn,\n",
    "           \"Recall\" : recll,\n",
    "            \"F1-score\" :f1_score }],\n",
    "          ignore_index = True)\n",
    "df"
   ]
  },
  {
   "cell_type": "code",
   "execution_count": null,
   "id": "097c33b1",
   "metadata": {},
   "outputs": [],
   "source": [
    "file_name = 'balanced-vgg16-evaluation2.xlsx'\n",
    "df.to_excel(file_name)\n",
    "print('DataFrame is written to Excel File successfully.')"
   ]
  },
  {
   "cell_type": "markdown",
   "id": "96183646",
   "metadata": {},
   "source": [
    "### Visualizing predictions\n",
    "#### Trained on half unbalanced dataset"
   ]
  },
  {
   "cell_type": "code",
   "execution_count": 7,
   "id": "5da2c77d",
   "metadata": {
    "id": "dzAOYNXWgpYt"
   },
   "outputs": [],
   "source": [
    "data = {'Layers_retrained':[3,6,8,11,14,16,19,21,22],\n",
    "       'Accuracy':[0.968354, 0.971519, 0.971519, 0.933544, 0.933544, 0.946203, 0.952532, 0.955696, 0.939873],\n",
    "       'Precision':[0.951219, 0.968553, 0.980645, 0.882682, 0.900585, 0.954839, 0.938650, 0.939024, 0.948387],\n",
    "       'Recall':[0.987342, 0.974684, 0.962025, 1.000000, 0.974684, 0.936709, 0.968354, 0.974684, 0.930380],\n",
    "       'F1-score':[0.968944, 0.971609, 0.971246, 0.937685, 0.936170, 0.945687, 0.953271, 0.956522, 0.939297]}\n"
   ]
  },
  {
   "cell_type": "code",
   "execution_count": 8,
   "id": "0756fa57",
   "metadata": {
    "id": "CgtdxhZgiE3W"
   },
   "outputs": [
    {
     "data": {
      "text/html": [
       "<div>\n",
       "<style scoped>\n",
       "    .dataframe tbody tr th:only-of-type {\n",
       "        vertical-align: middle;\n",
       "    }\n",
       "\n",
       "    .dataframe tbody tr th {\n",
       "        vertical-align: top;\n",
       "    }\n",
       "\n",
       "    .dataframe thead th {\n",
       "        text-align: right;\n",
       "    }\n",
       "</style>\n",
       "<table border=\"1\" class=\"dataframe\">\n",
       "  <thead>\n",
       "    <tr style=\"text-align: right;\">\n",
       "      <th></th>\n",
       "      <th>Accuracy</th>\n",
       "      <th>Precision</th>\n",
       "      <th>Recall</th>\n",
       "      <th>F1-score</th>\n",
       "    </tr>\n",
       "    <tr>\n",
       "      <th>Layers_retrained</th>\n",
       "      <th></th>\n",
       "      <th></th>\n",
       "      <th></th>\n",
       "      <th></th>\n",
       "    </tr>\n",
       "  </thead>\n",
       "  <tbody>\n",
       "    <tr>\n",
       "      <th>3</th>\n",
       "      <td>0.968354</td>\n",
       "      <td>0.951219</td>\n",
       "      <td>0.987342</td>\n",
       "      <td>0.968944</td>\n",
       "    </tr>\n",
       "    <tr>\n",
       "      <th>6</th>\n",
       "      <td>0.971519</td>\n",
       "      <td>0.968553</td>\n",
       "      <td>0.974684</td>\n",
       "      <td>0.971609</td>\n",
       "    </tr>\n",
       "    <tr>\n",
       "      <th>8</th>\n",
       "      <td>0.971519</td>\n",
       "      <td>0.980645</td>\n",
       "      <td>0.962025</td>\n",
       "      <td>0.971246</td>\n",
       "    </tr>\n",
       "    <tr>\n",
       "      <th>11</th>\n",
       "      <td>0.933544</td>\n",
       "      <td>0.882682</td>\n",
       "      <td>1.000000</td>\n",
       "      <td>0.937685</td>\n",
       "    </tr>\n",
       "    <tr>\n",
       "      <th>14</th>\n",
       "      <td>0.933544</td>\n",
       "      <td>0.900585</td>\n",
       "      <td>0.974684</td>\n",
       "      <td>0.936170</td>\n",
       "    </tr>\n",
       "    <tr>\n",
       "      <th>16</th>\n",
       "      <td>0.946203</td>\n",
       "      <td>0.954839</td>\n",
       "      <td>0.936709</td>\n",
       "      <td>0.945687</td>\n",
       "    </tr>\n",
       "    <tr>\n",
       "      <th>19</th>\n",
       "      <td>0.952532</td>\n",
       "      <td>0.938650</td>\n",
       "      <td>0.968354</td>\n",
       "      <td>0.953271</td>\n",
       "    </tr>\n",
       "    <tr>\n",
       "      <th>21</th>\n",
       "      <td>0.955696</td>\n",
       "      <td>0.939024</td>\n",
       "      <td>0.974684</td>\n",
       "      <td>0.956522</td>\n",
       "    </tr>\n",
       "    <tr>\n",
       "      <th>22</th>\n",
       "      <td>0.939873</td>\n",
       "      <td>0.948387</td>\n",
       "      <td>0.930380</td>\n",
       "      <td>0.939297</td>\n",
       "    </tr>\n",
       "  </tbody>\n",
       "</table>\n",
       "</div>"
      ],
      "text/plain": [
       "                  Accuracy  Precision    Recall  F1-score\n",
       "Layers_retrained                                         \n",
       "3                 0.968354   0.951219  0.987342  0.968944\n",
       "6                 0.971519   0.968553  0.974684  0.971609\n",
       "8                 0.971519   0.980645  0.962025  0.971246\n",
       "11                0.933544   0.882682  1.000000  0.937685\n",
       "14                0.933544   0.900585  0.974684  0.936170\n",
       "16                0.946203   0.954839  0.936709  0.945687\n",
       "19                0.952532   0.938650  0.968354  0.953271\n",
       "21                0.955696   0.939024  0.974684  0.956522\n",
       "22                0.939873   0.948387  0.930380  0.939297"
      ]
     },
     "execution_count": 8,
     "metadata": {},
     "output_type": "execute_result"
    }
   ],
   "source": [
    "df = pd.DataFrame(data)\n",
    "df = df.set_index('Layers_retrained')\n",
    "df"
   ]
  },
  {
   "cell_type": "code",
   "execution_count": 9,
   "id": "2c1ace9b",
   "metadata": {},
   "outputs": [
    {
     "data": {
      "text/plain": [
       "<AxesSubplot:xlabel='Layers_retrained'>"
      ]
     },
     "execution_count": 9,
     "metadata": {},
     "output_type": "execute_result"
    },
    {
     "data": {
      "image/png": "[encoded data removed]",
      "text/plain": [
       "<Figure size 432x288 with 1 Axes>"
      ]
     },
     "metadata": {
      "needs_background": "light"
     },
     "output_type": "display_data"
    }
   ],
   "source": [
    "df.plot()"
   ]
  },
  {
   "cell_type": "code",
   "execution_count": 12,
   "id": "6b016820",
   "metadata": {},
   "outputs": [
    {
     "data": {
      "image/png": "[encoded data removed]",
      "text/plain": [
       "<Figure size 432x288 with 1 Axes>"
      ]
     },
     "metadata": {
      "needs_background": "light"
     },
     "output_type": "display_data"
    }
   ],
   "source": [
    "plt.plot(df['F1-score'])\n",
    "plt.xlabel('Layers_retrained')\n",
    "plt.ylabel('F1-score')\n",
    "plt.show()"
   ]
  },
  {
   "cell_type": "markdown",
   "id": "6b363624",
   "metadata": {},
   "source": [
    "### Visualizing the evaluations\n",
    "#### Trained on balanced dataset"
   ]
  },
  {
   "cell_type": "code",
   "execution_count": 24,
   "id": "28dd2c6d",
   "metadata": {},
   "outputs": [],
   "source": [
    "os.chdir(r'C:\\Users\\HR\\pycharm\\projects\\pneumonia-test\\Dataset2\\\\')"
   ]
  },
  {
   "cell_type": "code",
   "execution_count": 25,
   "id": "9f1e8952",
   "metadata": {},
   "outputs": [
    {
     "name": "stdout",
     "output_type": "stream",
     "text": [
      "\n"
     ]
    },
    {
     "data": {
      "text/plain": [
       "(   Unnamed: 0  Layers_retrained  Accuracy  Precision    Recall  F1-score\n",
       " 0           0                 3  0.965190   0.980392  0.949367  0.964630\n",
       " 1           1                 6  0.962025   0.962025  0.962025  0.962025\n",
       " 2           2                 8  0.955696   1.000000  0.911392  0.953642\n",
       " 3           3                11  0.962025   0.980263  0.943038  0.961290\n",
       " 4           4                14  0.968354   0.974359  0.962025  0.968153\n",
       " 5           5                16  0.971519   0.974522  0.968354  0.971429,\n",
       " None,\n",
       "    Unnamed: 0  Layers_retrained  Accuracy  Precision    Recall  F1-score\n",
       " 0           0                19  0.955696   0.961538  0.949367  0.955414\n",
       " 1           1                21  0.952532   0.986395  0.917722  0.950820\n",
       " 2           2                22  0.955696   0.939024  0.974684  0.956522)"
      ]
     },
     "execution_count": 25,
     "metadata": {},
     "output_type": "execute_result"
    }
   ],
   "source": [
    "df1 = pd.read_excel('balanced-vgg16-evaluation.xlsx')\n",
    "df2 = pd.read_excel('balanced-vgg16-evaluation2.xlsx')\n",
    "df1,print(), df2"
   ]
  },
  {
   "cell_type": "code",
   "execution_count": 26,
   "id": "0204c15e",
   "metadata": {},
   "outputs": [
    {
     "data": {
      "text/html": [
       "<div>\n",
       "<style scoped>\n",
       "    .dataframe tbody tr th:only-of-type {\n",
       "        vertical-align: middle;\n",
       "    }\n",
       "\n",
       "    .dataframe tbody tr th {\n",
       "        vertical-align: top;\n",
       "    }\n",
       "\n",
       "    .dataframe thead th {\n",
       "        text-align: right;\n",
       "    }\n",
       "</style>\n",
       "<table border=\"1\" class=\"dataframe\">\n",
       "  <thead>\n",
       "    <tr style=\"text-align: right;\">\n",
       "      <th></th>\n",
       "      <th>Unnamed: 0</th>\n",
       "      <th>Layers_retrained</th>\n",
       "      <th>Accuracy</th>\n",
       "      <th>Precision</th>\n",
       "      <th>Recall</th>\n",
       "      <th>F1-score</th>\n",
       "    </tr>\n",
       "  </thead>\n",
       "  <tbody>\n",
       "    <tr>\n",
       "      <th>0</th>\n",
       "      <td>0</td>\n",
       "      <td>3</td>\n",
       "      <td>0.965190</td>\n",
       "      <td>0.980392</td>\n",
       "      <td>0.949367</td>\n",
       "      <td>0.964630</td>\n",
       "    </tr>\n",
       "    <tr>\n",
       "      <th>1</th>\n",
       "      <td>1</td>\n",
       "      <td>6</td>\n",
       "      <td>0.962025</td>\n",
       "      <td>0.962025</td>\n",
       "      <td>0.962025</td>\n",
       "      <td>0.962025</td>\n",
       "    </tr>\n",
       "    <tr>\n",
       "      <th>2</th>\n",
       "      <td>2</td>\n",
       "      <td>8</td>\n",
       "      <td>0.955696</td>\n",
       "      <td>1.000000</td>\n",
       "      <td>0.911392</td>\n",
       "      <td>0.953642</td>\n",
       "    </tr>\n",
       "    <tr>\n",
       "      <th>3</th>\n",
       "      <td>3</td>\n",
       "      <td>11</td>\n",
       "      <td>0.962025</td>\n",
       "      <td>0.980263</td>\n",
       "      <td>0.943038</td>\n",
       "      <td>0.961290</td>\n",
       "    </tr>\n",
       "    <tr>\n",
       "      <th>4</th>\n",
       "      <td>4</td>\n",
       "      <td>14</td>\n",
       "      <td>0.968354</td>\n",
       "      <td>0.974359</td>\n",
       "      <td>0.962025</td>\n",
       "      <td>0.968153</td>\n",
       "    </tr>\n",
       "    <tr>\n",
       "      <th>5</th>\n",
       "      <td>5</td>\n",
       "      <td>16</td>\n",
       "      <td>0.971519</td>\n",
       "      <td>0.974522</td>\n",
       "      <td>0.968354</td>\n",
       "      <td>0.971429</td>\n",
       "    </tr>\n",
       "    <tr>\n",
       "      <th>0</th>\n",
       "      <td>0</td>\n",
       "      <td>19</td>\n",
       "      <td>0.955696</td>\n",
       "      <td>0.961538</td>\n",
       "      <td>0.949367</td>\n",
       "      <td>0.955414</td>\n",
       "    </tr>\n",
       "    <tr>\n",
       "      <th>1</th>\n",
       "      <td>1</td>\n",
       "      <td>21</td>\n",
       "      <td>0.952532</td>\n",
       "      <td>0.986395</td>\n",
       "      <td>0.917722</td>\n",
       "      <td>0.950820</td>\n",
       "    </tr>\n",
       "    <tr>\n",
       "      <th>2</th>\n",
       "      <td>2</td>\n",
       "      <td>22</td>\n",
       "      <td>0.955696</td>\n",
       "      <td>0.939024</td>\n",
       "      <td>0.974684</td>\n",
       "      <td>0.956522</td>\n",
       "    </tr>\n",
       "  </tbody>\n",
       "</table>\n",
       "</div>"
      ],
      "text/plain": [
       "   Unnamed: 0  Layers_retrained  Accuracy  Precision    Recall  F1-score\n",
       "0           0                 3  0.965190   0.980392  0.949367  0.964630\n",
       "1           1                 6  0.962025   0.962025  0.962025  0.962025\n",
       "2           2                 8  0.955696   1.000000  0.911392  0.953642\n",
       "3           3                11  0.962025   0.980263  0.943038  0.961290\n",
       "4           4                14  0.968354   0.974359  0.962025  0.968153\n",
       "5           5                16  0.971519   0.974522  0.968354  0.971429\n",
       "0           0                19  0.955696   0.961538  0.949367  0.955414\n",
       "1           1                21  0.952532   0.986395  0.917722  0.950820\n",
       "2           2                22  0.955696   0.939024  0.974684  0.956522"
      ]
     },
     "execution_count": 26,
     "metadata": {},
     "output_type": "execute_result"
    }
   ],
   "source": [
    "data = [df1, df2]\n",
    "full_df = pd.concat(data)\n",
    "full_df"
   ]
  },
  {
   "cell_type": "code",
   "execution_count": 27,
   "id": "d0efe8ea",
   "metadata": {},
   "outputs": [
    {
     "data": {
      "text/plain": [
       "Index(['Unnamed: 0', 'Layers_retrained', 'Accuracy', 'Precision', 'Recall',\n",
       "       'F1-score'],\n",
       "      dtype='object')"
      ]
     },
     "execution_count": 27,
     "metadata": {},
     "output_type": "execute_result"
    }
   ],
   "source": [
    "full_df.columns"
   ]
  },
  {
   "cell_type": "code",
   "execution_count": 28,
   "id": "63b92069",
   "metadata": {},
   "outputs": [],
   "source": [
    "del(full_df['Unnamed: 0'])"
   ]
  },
  {
   "cell_type": "code",
   "execution_count": 29,
   "id": "f9c3ecab",
   "metadata": {},
   "outputs": [
    {
     "data": {
      "text/html": [
       "<div>\n",
       "<style scoped>\n",
       "    .dataframe tbody tr th:only-of-type {\n",
       "        vertical-align: middle;\n",
       "    }\n",
       "\n",
       "    .dataframe tbody tr th {\n",
       "        vertical-align: top;\n",
       "    }\n",
       "\n",
       "    .dataframe thead th {\n",
       "        text-align: right;\n",
       "    }\n",
       "</style>\n",
       "<table border=\"1\" class=\"dataframe\">\n",
       "  <thead>\n",
       "    <tr style=\"text-align: right;\">\n",
       "      <th></th>\n",
       "      <th>Accuracy</th>\n",
       "      <th>Precision</th>\n",
       "      <th>Recall</th>\n",
       "      <th>F1-score</th>\n",
       "    </tr>\n",
       "    <tr>\n",
       "      <th>Layers_retrained</th>\n",
       "      <th></th>\n",
       "      <th></th>\n",
       "      <th></th>\n",
       "      <th></th>\n",
       "    </tr>\n",
       "  </thead>\n",
       "  <tbody>\n",
       "    <tr>\n",
       "      <th>3</th>\n",
       "      <td>0.965190</td>\n",
       "      <td>0.980392</td>\n",
       "      <td>0.949367</td>\n",
       "      <td>0.964630</td>\n",
       "    </tr>\n",
       "    <tr>\n",
       "      <th>6</th>\n",
       "      <td>0.962025</td>\n",
       "      <td>0.962025</td>\n",
       "      <td>0.962025</td>\n",
       "      <td>0.962025</td>\n",
       "    </tr>\n",
       "    <tr>\n",
       "      <th>8</th>\n",
       "      <td>0.955696</td>\n",
       "      <td>1.000000</td>\n",
       "      <td>0.911392</td>\n",
       "      <td>0.953642</td>\n",
       "    </tr>\n",
       "    <tr>\n",
       "      <th>11</th>\n",
       "      <td>0.962025</td>\n",
       "      <td>0.980263</td>\n",
       "      <td>0.943038</td>\n",
       "      <td>0.961290</td>\n",
       "    </tr>\n",
       "    <tr>\n",
       "      <th>14</th>\n",
       "      <td>0.968354</td>\n",
       "      <td>0.974359</td>\n",
       "      <td>0.962025</td>\n",
       "      <td>0.968153</td>\n",
       "    </tr>\n",
       "    <tr>\n",
       "      <th>16</th>\n",
       "      <td>0.971519</td>\n",
       "      <td>0.974522</td>\n",
       "      <td>0.968354</td>\n",
       "      <td>0.971429</td>\n",
       "    </tr>\n",
       "    <tr>\n",
       "      <th>19</th>\n",
       "      <td>0.955696</td>\n",
       "      <td>0.961538</td>\n",
       "      <td>0.949367</td>\n",
       "      <td>0.955414</td>\n",
       "    </tr>\n",
       "    <tr>\n",
       "      <th>21</th>\n",
       "      <td>0.952532</td>\n",
       "      <td>0.986395</td>\n",
       "      <td>0.917722</td>\n",
       "      <td>0.950820</td>\n",
       "    </tr>\n",
       "    <tr>\n",
       "      <th>22</th>\n",
       "      <td>0.955696</td>\n",
       "      <td>0.939024</td>\n",
       "      <td>0.974684</td>\n",
       "      <td>0.956522</td>\n",
       "    </tr>\n",
       "  </tbody>\n",
       "</table>\n",
       "</div>"
      ],
      "text/plain": [
       "                  Accuracy  Precision    Recall  F1-score\n",
       "Layers_retrained                                         \n",
       "3                 0.965190   0.980392  0.949367  0.964630\n",
       "6                 0.962025   0.962025  0.962025  0.962025\n",
       "8                 0.955696   1.000000  0.911392  0.953642\n",
       "11                0.962025   0.980263  0.943038  0.961290\n",
       "14                0.968354   0.974359  0.962025  0.968153\n",
       "16                0.971519   0.974522  0.968354  0.971429\n",
       "19                0.955696   0.961538  0.949367  0.955414\n",
       "21                0.952532   0.986395  0.917722  0.950820\n",
       "22                0.955696   0.939024  0.974684  0.956522"
      ]
     },
     "execution_count": 29,
     "metadata": {},
     "output_type": "execute_result"
    }
   ],
   "source": [
    "full_df = full_df.set_index('Layers_retrained')\n",
    "file_name = 'vgg16-blncd-metrics.xlsx'\n",
    "full_df.to_excel(file_name)\n",
    "full_df"
   ]
  },
  {
   "cell_type": "code",
   "execution_count": 17,
   "id": "307f3f6b",
   "metadata": {},
   "outputs": [
    {
     "data": {
      "text/plain": [
       "<AxesSubplot:xlabel='Layers_retrained'>"
      ]
     },
     "execution_count": 17,
     "metadata": {},
     "output_type": "execute_result"
    },
    {
     "data": {
      "image/png": "[encoded data removed]",
      "text/plain": [
       "<Figure size 432x288 with 1 Axes>"
      ]
     },
     "metadata": {
      "needs_background": "light"
     },
     "output_type": "display_data"
    }
   ],
   "source": [
    "full_df.plot()"
   ]
  },
  {
   "cell_type": "code",
   "execution_count": 18,
   "id": "c1536b85",
   "metadata": {},
   "outputs": [
    {
     "data": {
      "image/png": "[encoded data removed]",
      "text/plain": [
       "<Figure size 432x288 with 1 Axes>"
      ]
     },
     "metadata": {
      "needs_background": "light"
     },
     "output_type": "display_data"
    }
   ],
   "source": [
    "plt.plot(full_df['F1-score'])\n",
    "plt.xlabel('Layers_retrained')\n",
    "plt.ylabel('F1-score')\n",
    "plt.show()"
   ]
  },
  {
   "cell_type": "markdown",
   "id": "5f88e33b",
   "metadata": {},
   "source": [
    "### Comparing f1-scores of models trained on the balanced dataset and unbalanced"
   ]
  },
  {
   "cell_type": "markdown",
   "id": "7827155c",
   "metadata": {},
   "source": [
    "#### Unbalanced "
   ]
  },
  {
   "cell_type": "code",
   "execution_count": 19,
   "id": "ff9ae86a",
   "metadata": {
    "id": "dzAOYNXWgpYt"
   },
   "outputs": [],
   "source": [
    "data_unbalanced = {'Layers_retrained':[3,6,8,11,14,16,19,21,22],\n",
    "       'Accuracy':[0.968354, 0.971519, 0.971519, 0.933544, 0.933544, 0.946203, 0.952532, 0.955696, 0.939873],\n",
    "       'Precision':[0.951219, 0.968553, 0.980645, 0.882682, 0.900585, 0.954839, 0.938650, 0.939024, 0.948387],\n",
    "       'Recall':[0.987342, 0.974684, 0.962025, 1.000000, 0.974684, 0.936709, 0.968354, 0.974684, 0.930380],\n",
    "       'F1-score':[0.968944, 0.971609, 0.971246, 0.937685, 0.936170, 0.945687, 0.953271, 0.956522, 0.939297]}\n"
   ]
  },
  {
   "cell_type": "code",
   "execution_count": 79,
   "id": "62fef4b3",
   "metadata": {
    "id": "CgtdxhZgiE3W"
   },
   "outputs": [
    {
     "data": {
      "text/html": [
       "<div>\n",
       "<style scoped>\n",
       "    .dataframe tbody tr th:only-of-type {\n",
       "        vertical-align: middle;\n",
       "    }\n",
       "\n",
       "    .dataframe tbody tr th {\n",
       "        vertical-align: top;\n",
       "    }\n",
       "\n",
       "    .dataframe thead th {\n",
       "        text-align: right;\n",
       "    }\n",
       "</style>\n",
       "<table border=\"1\" class=\"dataframe\">\n",
       "  <thead>\n",
       "    <tr style=\"text-align: right;\">\n",
       "      <th></th>\n",
       "      <th>Accuracy</th>\n",
       "      <th>Precision</th>\n",
       "      <th>Recall</th>\n",
       "      <th>F1-score</th>\n",
       "    </tr>\n",
       "    <tr>\n",
       "      <th>Layers_retrained</th>\n",
       "      <th></th>\n",
       "      <th></th>\n",
       "      <th></th>\n",
       "      <th></th>\n",
       "    </tr>\n",
       "  </thead>\n",
       "  <tbody>\n",
       "    <tr>\n",
       "      <th>3</th>\n",
       "      <td>0.968354</td>\n",
       "      <td>0.951219</td>\n",
       "      <td>0.987342</td>\n",
       "      <td>0.968944</td>\n",
       "    </tr>\n",
       "    <tr>\n",
       "      <th>6</th>\n",
       "      <td>0.971519</td>\n",
       "      <td>0.968553</td>\n",
       "      <td>0.974684</td>\n",
       "      <td>0.971609</td>\n",
       "    </tr>\n",
       "    <tr>\n",
       "      <th>8</th>\n",
       "      <td>0.971519</td>\n",
       "      <td>0.980645</td>\n",
       "      <td>0.962025</td>\n",
       "      <td>0.971246</td>\n",
       "    </tr>\n",
       "    <tr>\n",
       "      <th>11</th>\n",
       "      <td>0.933544</td>\n",
       "      <td>0.882682</td>\n",
       "      <td>1.000000</td>\n",
       "      <td>0.937685</td>\n",
       "    </tr>\n",
       "    <tr>\n",
       "      <th>14</th>\n",
       "      <td>0.933544</td>\n",
       "      <td>0.900585</td>\n",
       "      <td>0.974684</td>\n",
       "      <td>0.936170</td>\n",
       "    </tr>\n",
       "    <tr>\n",
       "      <th>16</th>\n",
       "      <td>0.946203</td>\n",
       "      <td>0.954839</td>\n",
       "      <td>0.936709</td>\n",
       "      <td>0.945687</td>\n",
       "    </tr>\n",
       "    <tr>\n",
       "      <th>19</th>\n",
       "      <td>0.952532</td>\n",
       "      <td>0.938650</td>\n",
       "      <td>0.968354</td>\n",
       "      <td>0.953271</td>\n",
       "    </tr>\n",
       "    <tr>\n",
       "      <th>21</th>\n",
       "      <td>0.955696</td>\n",
       "      <td>0.939024</td>\n",
       "      <td>0.974684</td>\n",
       "      <td>0.956522</td>\n",
       "    </tr>\n",
       "    <tr>\n",
       "      <th>22</th>\n",
       "      <td>0.939873</td>\n",
       "      <td>0.948387</td>\n",
       "      <td>0.930380</td>\n",
       "      <td>0.939297</td>\n",
       "    </tr>\n",
       "  </tbody>\n",
       "</table>\n",
       "</div>"
      ],
      "text/plain": [
       "                  Accuracy  Precision    Recall  F1-score\n",
       "Layers_retrained                                         \n",
       "3                 0.968354   0.951219  0.987342  0.968944\n",
       "6                 0.971519   0.968553  0.974684  0.971609\n",
       "8                 0.971519   0.980645  0.962025  0.971246\n",
       "11                0.933544   0.882682  1.000000  0.937685\n",
       "14                0.933544   0.900585  0.974684  0.936170\n",
       "16                0.946203   0.954839  0.936709  0.945687\n",
       "19                0.952532   0.938650  0.968354  0.953271\n",
       "21                0.955696   0.939024  0.974684  0.956522\n",
       "22                0.939873   0.948387  0.930380  0.939297"
      ]
     },
     "execution_count": 79,
     "metadata": {},
     "output_type": "execute_result"
    }
   ],
   "source": [
    "df_unbalanced = pd.DataFrame(data_unbalanced)\n",
    "df_unbalanced = df_unbalanced.set_index('Layers_retrained')\n",
    "df_unbalanced"
   ]
  },
  {
   "cell_type": "markdown",
   "id": "5832cc4a",
   "metadata": {},
   "source": [
    "#### Balanced"
   ]
  },
  {
   "cell_type": "code",
   "execution_count": 32,
   "id": "b427408f",
   "metadata": {},
   "outputs": [
    {
     "data": {
      "text/html": [
       "<div>\n",
       "<style scoped>\n",
       "    .dataframe tbody tr th:only-of-type {\n",
       "        vertical-align: middle;\n",
       "    }\n",
       "\n",
       "    .dataframe tbody tr th {\n",
       "        vertical-align: top;\n",
       "    }\n",
       "\n",
       "    .dataframe thead th {\n",
       "        text-align: right;\n",
       "    }\n",
       "</style>\n",
       "<table border=\"1\" class=\"dataframe\">\n",
       "  <thead>\n",
       "    <tr style=\"text-align: right;\">\n",
       "      <th></th>\n",
       "      <th>Accuracy</th>\n",
       "      <th>Precision</th>\n",
       "      <th>Recall</th>\n",
       "      <th>F1-score</th>\n",
       "    </tr>\n",
       "    <tr>\n",
       "      <th>Layers_retrained</th>\n",
       "      <th></th>\n",
       "      <th></th>\n",
       "      <th></th>\n",
       "      <th></th>\n",
       "    </tr>\n",
       "  </thead>\n",
       "  <tbody>\n",
       "    <tr>\n",
       "      <th>3</th>\n",
       "      <td>0.965190</td>\n",
       "      <td>0.980392</td>\n",
       "      <td>0.949367</td>\n",
       "      <td>0.964630</td>\n",
       "    </tr>\n",
       "    <tr>\n",
       "      <th>6</th>\n",
       "      <td>0.962025</td>\n",
       "      <td>0.962025</td>\n",
       "      <td>0.962025</td>\n",
       "      <td>0.962025</td>\n",
       "    </tr>\n",
       "    <tr>\n",
       "      <th>8</th>\n",
       "      <td>0.955696</td>\n",
       "      <td>1.000000</td>\n",
       "      <td>0.911392</td>\n",
       "      <td>0.953642</td>\n",
       "    </tr>\n",
       "    <tr>\n",
       "      <th>11</th>\n",
       "      <td>0.962025</td>\n",
       "      <td>0.980263</td>\n",
       "      <td>0.943038</td>\n",
       "      <td>0.961290</td>\n",
       "    </tr>\n",
       "    <tr>\n",
       "      <th>14</th>\n",
       "      <td>0.968354</td>\n",
       "      <td>0.974359</td>\n",
       "      <td>0.962025</td>\n",
       "      <td>0.968153</td>\n",
       "    </tr>\n",
       "    <tr>\n",
       "      <th>16</th>\n",
       "      <td>0.971519</td>\n",
       "      <td>0.974522</td>\n",
       "      <td>0.968354</td>\n",
       "      <td>0.971429</td>\n",
       "    </tr>\n",
       "    <tr>\n",
       "      <th>19</th>\n",
       "      <td>0.955696</td>\n",
       "      <td>0.961538</td>\n",
       "      <td>0.949367</td>\n",
       "      <td>0.955414</td>\n",
       "    </tr>\n",
       "    <tr>\n",
       "      <th>21</th>\n",
       "      <td>0.952532</td>\n",
       "      <td>0.986395</td>\n",
       "      <td>0.917722</td>\n",
       "      <td>0.950820</td>\n",
       "    </tr>\n",
       "    <tr>\n",
       "      <th>22</th>\n",
       "      <td>0.955696</td>\n",
       "      <td>0.939024</td>\n",
       "      <td>0.974684</td>\n",
       "      <td>0.956522</td>\n",
       "    </tr>\n",
       "  </tbody>\n",
       "</table>\n",
       "</div>"
      ],
      "text/plain": [
       "                  Accuracy  Precision    Recall  F1-score\n",
       "Layers_retrained                                         \n",
       "3                 0.965190   0.980392  0.949367  0.964630\n",
       "6                 0.962025   0.962025  0.962025  0.962025\n",
       "8                 0.955696   1.000000  0.911392  0.953642\n",
       "11                0.962025   0.980263  0.943038  0.961290\n",
       "14                0.968354   0.974359  0.962025  0.968153\n",
       "16                0.971519   0.974522  0.968354  0.971429\n",
       "19                0.955696   0.961538  0.949367  0.955414\n",
       "21                0.952532   0.986395  0.917722  0.950820\n",
       "22                0.955696   0.939024  0.974684  0.956522"
      ]
     },
     "execution_count": 32,
     "metadata": {},
     "output_type": "execute_result"
    }
   ],
   "source": [
    "df_balanced = pd.read_excel('vgg16-blncd-metrics.xlsx')\n",
    "df_balanced = df_balanced.set_index('Layers_retrained')\n",
    "df_balanced"
   ]
  },
  {
   "cell_type": "markdown",
   "id": "634aa062",
   "metadata": {},
   "source": [
    "#### All metrics"
   ]
  },
  {
   "cell_type": "code",
   "execution_count": 77,
   "id": "2512d79c",
   "metadata": {},
   "outputs": [
    {
     "data": {
      "image/png": "[encoded data removed]",
      "text/plain": [
       "<Figure size 432x288 with 2 Axes>"
      ]
     },
     "metadata": {
      "needs_background": "light"
     },
     "output_type": "display_data"
    }
   ],
   "source": [
    "figure, axes = plt.subplots(1, 2)\n",
    "df_unbalanced.plot(ax=axes[0])\n",
    "axes[0].set_title('vgg16 unbalanced dataset')\n",
    "\n",
    "\n",
    "df_balanced.plot(ax=axes[1])\n",
    "axes[1].set_title('vgg16 balanced dataset')\n",
    "\n",
    "figure.tight_layout()\n"
   ]
  },
  {
   "cell_type": "markdown",
   "id": "cda001a0",
   "metadata": {},
   "source": [
    "#### F1 scores"
   ]
  },
  {
   "cell_type": "code",
   "execution_count": 91,
   "id": "5ef66fdf",
   "metadata": {},
   "outputs": [
    {
     "data": {
      "image/png": "[encoded data removed]",
      "text/plain": [
       "<Figure size 720x504 with 1 Axes>"
      ]
     },
     "metadata": {
      "needs_background": "light"
     },
     "output_type": "display_data"
    }
   ],
   "source": [
    "plt.figure(figsize = (10,7))\n",
    "plt.plot(df_unbalanced['F1-score'], color = 'blue', label = 'vgg16 unbalanced')\n",
    "plt.plot(df_balanced['F1-score'],color = 'red', label = 'vgg16 balanced')\n",
    "plt.xlabel('Layers retrained')\n",
    "plt.ylabel('F1-score')\n",
    "plt.legend()\n",
    "plt.title('F1 scores')\n",
    "plt.show()"
   ]
  },
  {
   "cell_type": "markdown",
   "id": "a33ee2ea",
   "metadata": {},
   "source": [
    "# Analysis\n",
    "parameter_layers = [2, 5, 6, 7, 9, 10, 11, 13, 14, 15, 17, 18, 20, 21]\n",
    "\n",
    "### Unbalanced Dataset  \n",
    "#### Best option\n",
    "Layers to retrain = (5 or 7) + output layer  \n",
    "f-scores: 0.971609, 0.971246  \n",
    "#### Deent options\n",
    "layers: 2 + output_layer  \n",
    "f-score: 0.968944\n",
    "\n",
    "### Balanced dataset  \n",
    "#### Best option\n",
    "Layers = 15 + output layer  \n",
    "f-score: 0.971429\n",
    "#### Decent options\n",
    "Layers = (2, 5, 10, 13) + output layer  \n",
    "f-scores: 0.964630, 0.962025, 0.961290, 0.968153"
   ]
  },
  {
   "cell_type": "code",
   "execution_count": null,
   "id": "782b49d8",
   "metadata": {},
   "outputs": [],
   "source": []
  }
 ],
 "metadata": {
  "colab": {
   "collapsed_sections": [],
   "name": "VGG16.ipynb",
   "provenance": []
  },
  "kernelspec": {
   "display_name": "Python [conda env:py37]",
   "language": "python",
   "name": "conda-env-py37-py"
  },
  "language_info": {
   "codemirror_mode": {
    "name": "ipython",
    "version": 3
   },
   "file_extension": ".py",
   "mimetype": "text/x-python",
   "name": "python",
   "nbconvert_exporter": "python",
   "pygments_lexer": "ipython3",
   "version": "3.7.10"
  }
 },
 "nbformat": 4,
 "nbformat_minor": 5
}
