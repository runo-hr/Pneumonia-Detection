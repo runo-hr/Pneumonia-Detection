{
 "cells": [
  {
   "cell_type": "code",
   "execution_count": null,
   "id": "8c711470",
   "metadata": {},
   "outputs": [],
   "source": [
    "import os\n",
    "import shutil\n",
    "import random\n",
    "import glob"
   ]
  },
  {
   "cell_type": "markdown",
   "id": "b3708f8f",
   "metadata": {},
   "source": [
    "Move all images into the base directory (Chest-X-Ray-Images-(Pneumonia)-Dataset) then run the cell below"
   ]
  },
  {
   "cell_type": "code",
   "execution_count": null,
   "id": "ee74c070",
   "metadata": {},
   "outputs": [],
   "source": [
    "# Organize data into train, valid, test dirs\n",
    "os.chdir('data/Chest-X-Ray-Images-(Pneumonia)-Dataset')\n",
    "if os.path.isdir('train/NORMAL') is False:\n",
    "    os.makedirs('train/NORMAL')\n",
    "    os.makedirs('train/PNEUMONIA')\n",
    "    os.makedirs('valid/NORMAL')\n",
    "    os.makedirs('valid/PNEUMONIA')\n",
    "    os.makedirs('test/NORMAL')\n",
    "    os.makedirs('test/PNEUMONIA')\n",
    "\n",
    "    for i in random.sample(glob.glob('PNEUMONIA*'), 1282):\n",
    "        shutil.copy(i, 'train/PNEUMONIA')      \n",
    "    for i in random.sample(glob.glob('NORMAL*'), 475):\n",
    "        shutil.copy(i, 'train/NORMAL')\n",
    "    for i in random.sample(glob.glob('PNEUMONIA*'), 641):\n",
    "        shutil.copy(i, 'valid/PNEUMONIA')        \n",
    "    for i in random.sample(glob.glob('NORMAL*'), 238):\n",
    "        shutil.copy(i, 'valid/NORMAL')\n",
    "    for i in random.sample(glob.glob('PNEUMONIA*'), 158):\n",
    "        shutil.copy(i, 'test/PNEUMONIA')      \n",
    "    for i in random.sample(glob.glob('NORMAL*'), 158):\n",
    "        shutil.copy(i, 'test/NORMAL')\n",
    "\n",
    "os.chdir('../../')"
   ]
  }
 ],
 "metadata": {
  "kernelspec": {
   "display_name": "Python [conda env:py37]",
   "language": "python",
   "name": "conda-env-py37-py"
  },
  "language_info": {
   "codemirror_mode": {
    "name": "ipython",
    "version": 3
   },
   "file_extension": ".py",
   "mimetype": "text/x-python",
   "name": "python",
   "nbconvert_exporter": "python",
   "pygments_lexer": "ipython3",
   "version": "3.7.10"
  }
 },
 "nbformat": 4,
 "nbformat_minor": 5
}
